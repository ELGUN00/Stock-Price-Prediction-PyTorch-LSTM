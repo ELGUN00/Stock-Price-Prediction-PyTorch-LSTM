{
 "cells": [
  {
   "cell_type": "code",
   "execution_count": 1,
   "metadata": {},
   "outputs": [],
   "source": [
    "import pandas as pd\n",
    "import requests\n",
    "import datetime\n",
    "import yfinance as yahooFinance"
   ]
  },
  {
   "cell_type": "code",
   "execution_count": 987,
   "metadata": {},
   "outputs": [],
   "source": [
    "ticket_name = 'AAPL'"
   ]
  },
  {
   "cell_type": "code",
   "execution_count": 988,
   "metadata": {},
   "outputs": [],
   "source": [
    "data = yahooFinance.Ticker(ticket_name)\n"
   ]
  },
  {
   "cell_type": "code",
   "execution_count": 989,
   "metadata": {},
   "outputs": [
    {
     "data": {
      "text/plain": [
       "yfinance.Ticker object <AAPL>"
      ]
     },
     "execution_count": 989,
     "metadata": {},
     "output_type": "execute_result"
    }
   ],
   "source": [
    "data"
   ]
  },
  {
   "cell_type": "code",
   "execution_count": 990,
   "metadata": {},
   "outputs": [],
   "source": [
    "df = data.history(period=\"10y\")"
   ]
  },
  {
   "cell_type": "code",
   "execution_count": 991,
   "metadata": {},
   "outputs": [
    {
     "data": {
      "text/html": [
       "<div>\n",
       "<style scoped>\n",
       "    .dataframe tbody tr th:only-of-type {\n",
       "        vertical-align: middle;\n",
       "    }\n",
       "\n",
       "    .dataframe tbody tr th {\n",
       "        vertical-align: top;\n",
       "    }\n",
       "\n",
       "    .dataframe thead th {\n",
       "        text-align: right;\n",
       "    }\n",
       "</style>\n",
       "<table border=\"1\" class=\"dataframe\">\n",
       "  <thead>\n",
       "    <tr style=\"text-align: right;\">\n",
       "      <th></th>\n",
       "      <th>Open</th>\n",
       "      <th>High</th>\n",
       "      <th>Low</th>\n",
       "      <th>Close</th>\n",
       "      <th>Volume</th>\n",
       "      <th>Dividends</th>\n",
       "      <th>Stock Splits</th>\n",
       "    </tr>\n",
       "    <tr>\n",
       "      <th>Date</th>\n",
       "      <th></th>\n",
       "      <th></th>\n",
       "      <th></th>\n",
       "      <th></th>\n",
       "      <th></th>\n",
       "      <th></th>\n",
       "      <th></th>\n",
       "    </tr>\n",
       "  </thead>\n",
       "  <tbody>\n",
       "    <tr>\n",
       "      <th>2013-09-30 00:00:00-04:00</th>\n",
       "      <td>14.875732</td>\n",
       "      <td>15.013190</td>\n",
       "      <td>14.787210</td>\n",
       "      <td>14.860147</td>\n",
       "      <td>260156400</td>\n",
       "      <td>0.0</td>\n",
       "      <td>0.0</td>\n",
       "    </tr>\n",
       "    <tr>\n",
       "      <th>2013-10-01 00:00:00-04:00</th>\n",
       "      <td>14.913130</td>\n",
       "      <td>15.246334</td>\n",
       "      <td>14.910947</td>\n",
       "      <td>15.209554</td>\n",
       "      <td>353883600</td>\n",
       "      <td>0.0</td>\n",
       "      <td>0.0</td>\n",
       "    </tr>\n",
       "    <tr>\n",
       "      <th>2013-10-02 00:00:00-04:00</th>\n",
       "      <td>15.136935</td>\n",
       "      <td>15.329251</td>\n",
       "      <td>15.078336</td>\n",
       "      <td>15.259431</td>\n",
       "      <td>289184000</td>\n",
       "      <td>0.0</td>\n",
       "      <td>0.0</td>\n",
       "    </tr>\n",
       "    <tr>\n",
       "      <th>2013-10-03 00:00:00-04:00</th>\n",
       "      <td>15.289042</td>\n",
       "      <td>15.346395</td>\n",
       "      <td>14.984516</td>\n",
       "      <td>15.067738</td>\n",
       "      <td>322753200</td>\n",
       "      <td>0.0</td>\n",
       "      <td>0.0</td>\n",
       "    </tr>\n",
       "    <tr>\n",
       "      <th>2013-10-04 00:00:00-04:00</th>\n",
       "      <td>15.081758</td>\n",
       "      <td>15.104824</td>\n",
       "      <td>14.917806</td>\n",
       "      <td>15.055888</td>\n",
       "      <td>258868400</td>\n",
       "      <td>0.0</td>\n",
       "      <td>0.0</td>\n",
       "    </tr>\n",
       "    <tr>\n",
       "      <th>...</th>\n",
       "      <td>...</td>\n",
       "      <td>...</td>\n",
       "      <td>...</td>\n",
       "      <td>...</td>\n",
       "      <td>...</td>\n",
       "      <td>...</td>\n",
       "      <td>...</td>\n",
       "    </tr>\n",
       "    <tr>\n",
       "      <th>2023-09-22 00:00:00-04:00</th>\n",
       "      <td>174.669998</td>\n",
       "      <td>177.080002</td>\n",
       "      <td>174.050003</td>\n",
       "      <td>174.789993</td>\n",
       "      <td>56663000</td>\n",
       "      <td>0.0</td>\n",
       "      <td>0.0</td>\n",
       "    </tr>\n",
       "    <tr>\n",
       "      <th>2023-09-25 00:00:00-04:00</th>\n",
       "      <td>174.199997</td>\n",
       "      <td>176.970001</td>\n",
       "      <td>174.149994</td>\n",
       "      <td>176.080002</td>\n",
       "      <td>46172700</td>\n",
       "      <td>0.0</td>\n",
       "      <td>0.0</td>\n",
       "    </tr>\n",
       "    <tr>\n",
       "      <th>2023-09-26 00:00:00-04:00</th>\n",
       "      <td>174.820007</td>\n",
       "      <td>175.199997</td>\n",
       "      <td>171.660004</td>\n",
       "      <td>171.960007</td>\n",
       "      <td>64588900</td>\n",
       "      <td>0.0</td>\n",
       "      <td>0.0</td>\n",
       "    </tr>\n",
       "    <tr>\n",
       "      <th>2023-09-27 00:00:00-04:00</th>\n",
       "      <td>172.619995</td>\n",
       "      <td>173.039993</td>\n",
       "      <td>169.050003</td>\n",
       "      <td>170.429993</td>\n",
       "      <td>66921800</td>\n",
       "      <td>0.0</td>\n",
       "      <td>0.0</td>\n",
       "    </tr>\n",
       "    <tr>\n",
       "      <th>2023-09-28 00:00:00-04:00</th>\n",
       "      <td>169.339996</td>\n",
       "      <td>172.029999</td>\n",
       "      <td>167.619995</td>\n",
       "      <td>170.690002</td>\n",
       "      <td>56228900</td>\n",
       "      <td>0.0</td>\n",
       "      <td>0.0</td>\n",
       "    </tr>\n",
       "  </tbody>\n",
       "</table>\n",
       "<p>2517 rows × 7 columns</p>\n",
       "</div>"
      ],
      "text/plain": [
       "                                 Open        High         Low       Close  \\\n",
       "Date                                                                        \n",
       "2013-09-30 00:00:00-04:00   14.875732   15.013190   14.787210   14.860147   \n",
       "2013-10-01 00:00:00-04:00   14.913130   15.246334   14.910947   15.209554   \n",
       "2013-10-02 00:00:00-04:00   15.136935   15.329251   15.078336   15.259431   \n",
       "2013-10-03 00:00:00-04:00   15.289042   15.346395   14.984516   15.067738   \n",
       "2013-10-04 00:00:00-04:00   15.081758   15.104824   14.917806   15.055888   \n",
       "...                               ...         ...         ...         ...   \n",
       "2023-09-22 00:00:00-04:00  174.669998  177.080002  174.050003  174.789993   \n",
       "2023-09-25 00:00:00-04:00  174.199997  176.970001  174.149994  176.080002   \n",
       "2023-09-26 00:00:00-04:00  174.820007  175.199997  171.660004  171.960007   \n",
       "2023-09-27 00:00:00-04:00  172.619995  173.039993  169.050003  170.429993   \n",
       "2023-09-28 00:00:00-04:00  169.339996  172.029999  167.619995  170.690002   \n",
       "\n",
       "                              Volume  Dividends  Stock Splits  \n",
       "Date                                                           \n",
       "2013-09-30 00:00:00-04:00  260156400        0.0           0.0  \n",
       "2013-10-01 00:00:00-04:00  353883600        0.0           0.0  \n",
       "2013-10-02 00:00:00-04:00  289184000        0.0           0.0  \n",
       "2013-10-03 00:00:00-04:00  322753200        0.0           0.0  \n",
       "2013-10-04 00:00:00-04:00  258868400        0.0           0.0  \n",
       "...                              ...        ...           ...  \n",
       "2023-09-22 00:00:00-04:00   56663000        0.0           0.0  \n",
       "2023-09-25 00:00:00-04:00   46172700        0.0           0.0  \n",
       "2023-09-26 00:00:00-04:00   64588900        0.0           0.0  \n",
       "2023-09-27 00:00:00-04:00   66921800        0.0           0.0  \n",
       "2023-09-28 00:00:00-04:00   56228900        0.0           0.0  \n",
       "\n",
       "[2517 rows x 7 columns]"
      ]
     },
     "execution_count": 991,
     "metadata": {},
     "output_type": "execute_result"
    }
   ],
   "source": [
    "df"
   ]
  },
  {
   "cell_type": "code",
   "execution_count": 992,
   "metadata": {},
   "outputs": [
    {
     "name": "stdout",
     "output_type": "stream",
     "text": [
      "<class 'pandas.core.frame.DataFrame'>\n",
      "DatetimeIndex: 2517 entries, 2013-09-30 00:00:00-04:00 to 2023-09-28 00:00:00-04:00\n",
      "Data columns (total 7 columns):\n",
      " #   Column        Non-Null Count  Dtype  \n",
      "---  ------        --------------  -----  \n",
      " 0   Open          2517 non-null   float64\n",
      " 1   High          2517 non-null   float64\n",
      " 2   Low           2517 non-null   float64\n",
      " 3   Close         2517 non-null   float64\n",
      " 4   Volume        2517 non-null   int64  \n",
      " 5   Dividends     2517 non-null   float64\n",
      " 6   Stock Splits  2517 non-null   float64\n",
      "dtypes: float64(6), int64(1)\n",
      "memory usage: 157.3 KB\n"
     ]
    }
   ],
   "source": [
    "df.info()"
   ]
  },
  {
   "cell_type": "code",
   "execution_count": 993,
   "metadata": {},
   "outputs": [
    {
     "data": {
      "text/html": [
       "<div>\n",
       "<style scoped>\n",
       "    .dataframe tbody tr th:only-of-type {\n",
       "        vertical-align: middle;\n",
       "    }\n",
       "\n",
       "    .dataframe tbody tr th {\n",
       "        vertical-align: top;\n",
       "    }\n",
       "\n",
       "    .dataframe thead th {\n",
       "        text-align: right;\n",
       "    }\n",
       "</style>\n",
       "<table border=\"1\" class=\"dataframe\">\n",
       "  <thead>\n",
       "    <tr style=\"text-align: right;\">\n",
       "      <th></th>\n",
       "      <th>Open</th>\n",
       "      <th>High</th>\n",
       "      <th>Low</th>\n",
       "      <th>Close</th>\n",
       "      <th>Volume</th>\n",
       "      <th>Dividends</th>\n",
       "      <th>Stock Splits</th>\n",
       "    </tr>\n",
       "  </thead>\n",
       "  <tbody>\n",
       "    <tr>\n",
       "      <th>count</th>\n",
       "      <td>2517.000000</td>\n",
       "      <td>2517.000000</td>\n",
       "      <td>2517.000000</td>\n",
       "      <td>2517.000000</td>\n",
       "      <td>2.517000e+03</td>\n",
       "      <td>2517.000000</td>\n",
       "      <td>2517.000000</td>\n",
       "    </tr>\n",
       "    <tr>\n",
       "      <th>mean</th>\n",
       "      <td>71.736221</td>\n",
       "      <td>72.531524</td>\n",
       "      <td>70.983591</td>\n",
       "      <td>71.788605</td>\n",
       "      <td>1.433633e+08</td>\n",
       "      <td>0.002784</td>\n",
       "      <td>0.004370</td>\n",
       "    </tr>\n",
       "    <tr>\n",
       "      <th>std</th>\n",
       "      <td>54.707191</td>\n",
       "      <td>55.357123</td>\n",
       "      <td>54.094556</td>\n",
       "      <td>54.748054</td>\n",
       "      <td>8.877306e+07</td>\n",
       "      <td>0.022533</td>\n",
       "      <td>0.160672</td>\n",
       "    </tr>\n",
       "    <tr>\n",
       "      <th>min</th>\n",
       "      <td>14.875732</td>\n",
       "      <td>15.013190</td>\n",
       "      <td>14.787210</td>\n",
       "      <td>14.860147</td>\n",
       "      <td>3.145820e+07</td>\n",
       "      <td>0.000000</td>\n",
       "      <td>0.000000</td>\n",
       "    </tr>\n",
       "    <tr>\n",
       "      <th>25%</th>\n",
       "      <td>26.455118</td>\n",
       "      <td>26.703626</td>\n",
       "      <td>26.237337</td>\n",
       "      <td>26.436670</td>\n",
       "      <td>8.426790e+07</td>\n",
       "      <td>0.000000</td>\n",
       "      <td>0.000000</td>\n",
       "    </tr>\n",
       "    <tr>\n",
       "      <th>50%</th>\n",
       "      <td>44.453773</td>\n",
       "      <td>44.809863</td>\n",
       "      <td>44.121938</td>\n",
       "      <td>44.452934</td>\n",
       "      <td>1.160284e+08</td>\n",
       "      <td>0.000000</td>\n",
       "      <td>0.000000</td>\n",
       "    </tr>\n",
       "    <tr>\n",
       "      <th>75%</th>\n",
       "      <td>127.068652</td>\n",
       "      <td>128.896168</td>\n",
       "      <td>125.428771</td>\n",
       "      <td>127.331703</td>\n",
       "      <td>1.771584e+08</td>\n",
       "      <td>0.000000</td>\n",
       "      <td>0.000000</td>\n",
       "    </tr>\n",
       "    <tr>\n",
       "      <th>max</th>\n",
       "      <td>195.975362</td>\n",
       "      <td>197.962667</td>\n",
       "      <td>195.016650</td>\n",
       "      <td>196.185074</td>\n",
       "      <td>1.065523e+09</td>\n",
       "      <td>0.240000</td>\n",
       "      <td>7.000000</td>\n",
       "    </tr>\n",
       "  </tbody>\n",
       "</table>\n",
       "</div>"
      ],
      "text/plain": [
       "              Open         High          Low        Close        Volume  \\\n",
       "count  2517.000000  2517.000000  2517.000000  2517.000000  2.517000e+03   \n",
       "mean     71.736221    72.531524    70.983591    71.788605  1.433633e+08   \n",
       "std      54.707191    55.357123    54.094556    54.748054  8.877306e+07   \n",
       "min      14.875732    15.013190    14.787210    14.860147  3.145820e+07   \n",
       "25%      26.455118    26.703626    26.237337    26.436670  8.426790e+07   \n",
       "50%      44.453773    44.809863    44.121938    44.452934  1.160284e+08   \n",
       "75%     127.068652   128.896168   125.428771   127.331703  1.771584e+08   \n",
       "max     195.975362   197.962667   195.016650   196.185074  1.065523e+09   \n",
       "\n",
       "         Dividends  Stock Splits  \n",
       "count  2517.000000   2517.000000  \n",
       "mean      0.002784      0.004370  \n",
       "std       0.022533      0.160672  \n",
       "min       0.000000      0.000000  \n",
       "25%       0.000000      0.000000  \n",
       "50%       0.000000      0.000000  \n",
       "75%       0.000000      0.000000  \n",
       "max       0.240000      7.000000  "
      ]
     },
     "execution_count": 993,
     "metadata": {},
     "output_type": "execute_result"
    }
   ],
   "source": [
    "df.describe()"
   ]
  },
  {
   "cell_type": "code",
   "execution_count": 994,
   "metadata": {},
   "outputs": [
    {
     "data": {
      "text/html": [
       "<div>\n",
       "<style scoped>\n",
       "    .dataframe tbody tr th:only-of-type {\n",
       "        vertical-align: middle;\n",
       "    }\n",
       "\n",
       "    .dataframe tbody tr th {\n",
       "        vertical-align: top;\n",
       "    }\n",
       "\n",
       "    .dataframe thead th {\n",
       "        text-align: right;\n",
       "    }\n",
       "</style>\n",
       "<table border=\"1\" class=\"dataframe\">\n",
       "  <thead>\n",
       "    <tr style=\"text-align: right;\">\n",
       "      <th></th>\n",
       "      <th>Open</th>\n",
       "      <th>High</th>\n",
       "      <th>Low</th>\n",
       "      <th>Close</th>\n",
       "      <th>Volume</th>\n",
       "      <th>Dividends</th>\n",
       "      <th>Stock Splits</th>\n",
       "    </tr>\n",
       "    <tr>\n",
       "      <th>Date</th>\n",
       "      <th></th>\n",
       "      <th></th>\n",
       "      <th></th>\n",
       "      <th></th>\n",
       "      <th></th>\n",
       "      <th></th>\n",
       "      <th></th>\n",
       "    </tr>\n",
       "  </thead>\n",
       "  <tbody>\n",
       "    <tr>\n",
       "      <th>2013-09-30 00:00:00-04:00</th>\n",
       "      <td>14.875732</td>\n",
       "      <td>15.013190</td>\n",
       "      <td>14.787210</td>\n",
       "      <td>14.860147</td>\n",
       "      <td>260156400</td>\n",
       "      <td>0.0</td>\n",
       "      <td>0.0</td>\n",
       "    </tr>\n",
       "    <tr>\n",
       "      <th>2013-10-01 00:00:00-04:00</th>\n",
       "      <td>14.913130</td>\n",
       "      <td>15.246334</td>\n",
       "      <td>14.910947</td>\n",
       "      <td>15.209554</td>\n",
       "      <td>353883600</td>\n",
       "      <td>0.0</td>\n",
       "      <td>0.0</td>\n",
       "    </tr>\n",
       "    <tr>\n",
       "      <th>2013-10-02 00:00:00-04:00</th>\n",
       "      <td>15.136935</td>\n",
       "      <td>15.329251</td>\n",
       "      <td>15.078336</td>\n",
       "      <td>15.259431</td>\n",
       "      <td>289184000</td>\n",
       "      <td>0.0</td>\n",
       "      <td>0.0</td>\n",
       "    </tr>\n",
       "    <tr>\n",
       "      <th>2013-10-03 00:00:00-04:00</th>\n",
       "      <td>15.289042</td>\n",
       "      <td>15.346395</td>\n",
       "      <td>14.984516</td>\n",
       "      <td>15.067738</td>\n",
       "      <td>322753200</td>\n",
       "      <td>0.0</td>\n",
       "      <td>0.0</td>\n",
       "    </tr>\n",
       "    <tr>\n",
       "      <th>2013-10-04 00:00:00-04:00</th>\n",
       "      <td>15.081758</td>\n",
       "      <td>15.104824</td>\n",
       "      <td>14.917806</td>\n",
       "      <td>15.055888</td>\n",
       "      <td>258868400</td>\n",
       "      <td>0.0</td>\n",
       "      <td>0.0</td>\n",
       "    </tr>\n",
       "    <tr>\n",
       "      <th>...</th>\n",
       "      <td>...</td>\n",
       "      <td>...</td>\n",
       "      <td>...</td>\n",
       "      <td>...</td>\n",
       "      <td>...</td>\n",
       "      <td>...</td>\n",
       "      <td>...</td>\n",
       "    </tr>\n",
       "    <tr>\n",
       "      <th>2023-09-22 00:00:00-04:00</th>\n",
       "      <td>174.669998</td>\n",
       "      <td>177.080002</td>\n",
       "      <td>174.050003</td>\n",
       "      <td>174.789993</td>\n",
       "      <td>56663000</td>\n",
       "      <td>0.0</td>\n",
       "      <td>0.0</td>\n",
       "    </tr>\n",
       "    <tr>\n",
       "      <th>2023-09-25 00:00:00-04:00</th>\n",
       "      <td>174.199997</td>\n",
       "      <td>176.970001</td>\n",
       "      <td>174.149994</td>\n",
       "      <td>176.080002</td>\n",
       "      <td>46172700</td>\n",
       "      <td>0.0</td>\n",
       "      <td>0.0</td>\n",
       "    </tr>\n",
       "    <tr>\n",
       "      <th>2023-09-26 00:00:00-04:00</th>\n",
       "      <td>174.820007</td>\n",
       "      <td>175.199997</td>\n",
       "      <td>171.660004</td>\n",
       "      <td>171.960007</td>\n",
       "      <td>64588900</td>\n",
       "      <td>0.0</td>\n",
       "      <td>0.0</td>\n",
       "    </tr>\n",
       "    <tr>\n",
       "      <th>2023-09-27 00:00:00-04:00</th>\n",
       "      <td>172.619995</td>\n",
       "      <td>173.039993</td>\n",
       "      <td>169.050003</td>\n",
       "      <td>170.429993</td>\n",
       "      <td>66921800</td>\n",
       "      <td>0.0</td>\n",
       "      <td>0.0</td>\n",
       "    </tr>\n",
       "    <tr>\n",
       "      <th>2023-09-28 00:00:00-04:00</th>\n",
       "      <td>169.339996</td>\n",
       "      <td>172.029999</td>\n",
       "      <td>167.619995</td>\n",
       "      <td>170.690002</td>\n",
       "      <td>56228900</td>\n",
       "      <td>0.0</td>\n",
       "      <td>0.0</td>\n",
       "    </tr>\n",
       "  </tbody>\n",
       "</table>\n",
       "<p>2517 rows × 7 columns</p>\n",
       "</div>"
      ],
      "text/plain": [
       "                                 Open        High         Low       Close  \\\n",
       "Date                                                                        \n",
       "2013-09-30 00:00:00-04:00   14.875732   15.013190   14.787210   14.860147   \n",
       "2013-10-01 00:00:00-04:00   14.913130   15.246334   14.910947   15.209554   \n",
       "2013-10-02 00:00:00-04:00   15.136935   15.329251   15.078336   15.259431   \n",
       "2013-10-03 00:00:00-04:00   15.289042   15.346395   14.984516   15.067738   \n",
       "2013-10-04 00:00:00-04:00   15.081758   15.104824   14.917806   15.055888   \n",
       "...                               ...         ...         ...         ...   \n",
       "2023-09-22 00:00:00-04:00  174.669998  177.080002  174.050003  174.789993   \n",
       "2023-09-25 00:00:00-04:00  174.199997  176.970001  174.149994  176.080002   \n",
       "2023-09-26 00:00:00-04:00  174.820007  175.199997  171.660004  171.960007   \n",
       "2023-09-27 00:00:00-04:00  172.619995  173.039993  169.050003  170.429993   \n",
       "2023-09-28 00:00:00-04:00  169.339996  172.029999  167.619995  170.690002   \n",
       "\n",
       "                              Volume  Dividends  Stock Splits  \n",
       "Date                                                           \n",
       "2013-09-30 00:00:00-04:00  260156400        0.0           0.0  \n",
       "2013-10-01 00:00:00-04:00  353883600        0.0           0.0  \n",
       "2013-10-02 00:00:00-04:00  289184000        0.0           0.0  \n",
       "2013-10-03 00:00:00-04:00  322753200        0.0           0.0  \n",
       "2013-10-04 00:00:00-04:00  258868400        0.0           0.0  \n",
       "...                              ...        ...           ...  \n",
       "2023-09-22 00:00:00-04:00   56663000        0.0           0.0  \n",
       "2023-09-25 00:00:00-04:00   46172700        0.0           0.0  \n",
       "2023-09-26 00:00:00-04:00   64588900        0.0           0.0  \n",
       "2023-09-27 00:00:00-04:00   66921800        0.0           0.0  \n",
       "2023-09-28 00:00:00-04:00   56228900        0.0           0.0  \n",
       "\n",
       "[2517 rows x 7 columns]"
      ]
     },
     "execution_count": 994,
     "metadata": {},
     "output_type": "execute_result"
    }
   ],
   "source": [
    "df"
   ]
  },
  {
   "cell_type": "code",
   "execution_count": 995,
   "metadata": {},
   "outputs": [],
   "source": [
    "df = df[['Close']]"
   ]
  },
  {
   "cell_type": "code",
   "execution_count": 996,
   "metadata": {},
   "outputs": [],
   "source": [
    "df.reset_index(inplace=True)"
   ]
  },
  {
   "cell_type": "code",
   "execution_count": 997,
   "metadata": {},
   "outputs": [
    {
     "data": {
      "text/html": [
       "<div>\n",
       "<style scoped>\n",
       "    .dataframe tbody tr th:only-of-type {\n",
       "        vertical-align: middle;\n",
       "    }\n",
       "\n",
       "    .dataframe tbody tr th {\n",
       "        vertical-align: top;\n",
       "    }\n",
       "\n",
       "    .dataframe thead th {\n",
       "        text-align: right;\n",
       "    }\n",
       "</style>\n",
       "<table border=\"1\" class=\"dataframe\">\n",
       "  <thead>\n",
       "    <tr style=\"text-align: right;\">\n",
       "      <th></th>\n",
       "      <th>Date</th>\n",
       "      <th>Close</th>\n",
       "    </tr>\n",
       "  </thead>\n",
       "  <tbody>\n",
       "    <tr>\n",
       "      <th>0</th>\n",
       "      <td>2013-09-30 00:00:00-04:00</td>\n",
       "      <td>14.860147</td>\n",
       "    </tr>\n",
       "    <tr>\n",
       "      <th>1</th>\n",
       "      <td>2013-10-01 00:00:00-04:00</td>\n",
       "      <td>15.209554</td>\n",
       "    </tr>\n",
       "    <tr>\n",
       "      <th>2</th>\n",
       "      <td>2013-10-02 00:00:00-04:00</td>\n",
       "      <td>15.259431</td>\n",
       "    </tr>\n",
       "    <tr>\n",
       "      <th>3</th>\n",
       "      <td>2013-10-03 00:00:00-04:00</td>\n",
       "      <td>15.067738</td>\n",
       "    </tr>\n",
       "    <tr>\n",
       "      <th>4</th>\n",
       "      <td>2013-10-04 00:00:00-04:00</td>\n",
       "      <td>15.055888</td>\n",
       "    </tr>\n",
       "    <tr>\n",
       "      <th>...</th>\n",
       "      <td>...</td>\n",
       "      <td>...</td>\n",
       "    </tr>\n",
       "    <tr>\n",
       "      <th>2512</th>\n",
       "      <td>2023-09-22 00:00:00-04:00</td>\n",
       "      <td>174.789993</td>\n",
       "    </tr>\n",
       "    <tr>\n",
       "      <th>2513</th>\n",
       "      <td>2023-09-25 00:00:00-04:00</td>\n",
       "      <td>176.080002</td>\n",
       "    </tr>\n",
       "    <tr>\n",
       "      <th>2514</th>\n",
       "      <td>2023-09-26 00:00:00-04:00</td>\n",
       "      <td>171.960007</td>\n",
       "    </tr>\n",
       "    <tr>\n",
       "      <th>2515</th>\n",
       "      <td>2023-09-27 00:00:00-04:00</td>\n",
       "      <td>170.429993</td>\n",
       "    </tr>\n",
       "    <tr>\n",
       "      <th>2516</th>\n",
       "      <td>2023-09-28 00:00:00-04:00</td>\n",
       "      <td>170.690002</td>\n",
       "    </tr>\n",
       "  </tbody>\n",
       "</table>\n",
       "<p>2517 rows × 2 columns</p>\n",
       "</div>"
      ],
      "text/plain": [
       "                          Date       Close\n",
       "0    2013-09-30 00:00:00-04:00   14.860147\n",
       "1    2013-10-01 00:00:00-04:00   15.209554\n",
       "2    2013-10-02 00:00:00-04:00   15.259431\n",
       "3    2013-10-03 00:00:00-04:00   15.067738\n",
       "4    2013-10-04 00:00:00-04:00   15.055888\n",
       "...                        ...         ...\n",
       "2512 2023-09-22 00:00:00-04:00  174.789993\n",
       "2513 2023-09-25 00:00:00-04:00  176.080002\n",
       "2514 2023-09-26 00:00:00-04:00  171.960007\n",
       "2515 2023-09-27 00:00:00-04:00  170.429993\n",
       "2516 2023-09-28 00:00:00-04:00  170.690002\n",
       "\n",
       "[2517 rows x 2 columns]"
      ]
     },
     "execution_count": 997,
     "metadata": {},
     "output_type": "execute_result"
    }
   ],
   "source": [
    "df"
   ]
  },
  {
   "cell_type": "code",
   "execution_count": 998,
   "metadata": {},
   "outputs": [],
   "source": [
    "import torch"
   ]
  },
  {
   "cell_type": "code",
   "execution_count": 999,
   "metadata": {},
   "outputs": [
    {
     "data": {
      "text/plain": [
       "'cpu'"
      ]
     },
     "execution_count": 999,
     "metadata": {},
     "output_type": "execute_result"
    }
   ],
   "source": [
    "device = 'cuda:0' if torch.cuda.is_available() else 'cpu'\n",
    "device"
   ]
  },
  {
   "cell_type": "code",
   "execution_count": 1000,
   "metadata": {},
   "outputs": [],
   "source": [
    "import matplotlib.pyplot as plt"
   ]
  },
  {
   "cell_type": "code",
   "execution_count": 1001,
   "metadata": {},
   "outputs": [
    {
     "data": {
      "text/plain": [
       "[<matplotlib.lines.Line2D at 0x1f77ac23bd0>]"
      ]
     },
     "execution_count": 1001,
     "metadata": {},
     "output_type": "execute_result"
    },
    {
     "data": {
      "image/png": "[encoded data removed]",
      "text/plain": [
       "<Figure size 640x480 with 1 Axes>"
      ]
     },
     "metadata": {},
     "output_type": "display_data"
    }
   ],
   "source": [
    "plt.plot(df['Date'],df['Close'])"
   ]
  },
  {
   "cell_type": "code",
   "execution_count": 1002,
   "metadata": {},
   "outputs": [],
   "source": [
    "def prepare_dataframe(df,n_steps):\n",
    "    dc = df.copy()\n",
    "\n",
    "    dc.set_index('Date',inplace=True)\n",
    "\n",
    "    for i in range(1,n_steps+1):\n",
    "        dc[f'Close(t-{i})'] = dc['Close'].shift(i)\n",
    "    \n",
    "    dc.dropna(inplace=True)\n",
    "\n",
    "    return dc\n"
   ]
  },
  {
   "cell_type": "code",
   "execution_count": 1404,
   "metadata": {},
   "outputs": [
    {
     "data": {
      "text/html": [
       "<div>\n",
       "<style scoped>\n",
       "    .dataframe tbody tr th:only-of-type {\n",
       "        vertical-align: middle;\n",
       "    }\n",
       "\n",
       "    .dataframe tbody tr th {\n",
       "        vertical-align: top;\n",
       "    }\n",
       "\n",
       "    .dataframe thead th {\n",
       "        text-align: right;\n",
       "    }\n",
       "</style>\n",
       "<table border=\"1\" class=\"dataframe\">\n",
       "  <thead>\n",
       "    <tr style=\"text-align: right;\">\n",
       "      <th></th>\n",
       "      <th>Close</th>\n",
       "      <th>Close(t-1)</th>\n",
       "      <th>Close(t-2)</th>\n",
       "      <th>Close(t-3)</th>\n",
       "      <th>Close(t-4)</th>\n",
       "      <th>Close(t-5)</th>\n",
       "      <th>Close(t-6)</th>\n",
       "      <th>Close(t-7)</th>\n",
       "      <th>Close(t-8)</th>\n",
       "      <th>Close(t-9)</th>\n",
       "      <th>Close(t-10)</th>\n",
       "    </tr>\n",
       "    <tr>\n",
       "      <th>Date</th>\n",
       "      <th></th>\n",
       "      <th></th>\n",
       "      <th></th>\n",
       "      <th></th>\n",
       "      <th></th>\n",
       "      <th></th>\n",
       "      <th></th>\n",
       "      <th></th>\n",
       "      <th></th>\n",
       "      <th></th>\n",
       "      <th></th>\n",
       "    </tr>\n",
       "  </thead>\n",
       "  <tbody>\n",
       "    <tr>\n",
       "      <th>2013-10-14 00:00:00-04:00</th>\n",
       "      <td>15.461408</td>\n",
       "      <td>15.360730</td>\n",
       "      <td>15.261918</td>\n",
       "      <td>15.166851</td>\n",
       "      <td>14.990741</td>\n",
       "      <td>15.203013</td>\n",
       "      <td>15.055888</td>\n",
       "      <td>15.067738</td>\n",
       "      <td>15.259431</td>\n",
       "      <td>15.209554</td>\n",
       "      <td>14.860147</td>\n",
       "    </tr>\n",
       "    <tr>\n",
       "      <th>2013-10-15 00:00:00-04:00</th>\n",
       "      <td>15.543694</td>\n",
       "      <td>15.461408</td>\n",
       "      <td>15.360730</td>\n",
       "      <td>15.261918</td>\n",
       "      <td>15.166851</td>\n",
       "      <td>14.990741</td>\n",
       "      <td>15.203013</td>\n",
       "      <td>15.055888</td>\n",
       "      <td>15.067738</td>\n",
       "      <td>15.259431</td>\n",
       "      <td>15.209554</td>\n",
       "    </tr>\n",
       "    <tr>\n",
       "      <th>2013-10-16 00:00:00-04:00</th>\n",
       "      <td>15.619435</td>\n",
       "      <td>15.543694</td>\n",
       "      <td>15.461408</td>\n",
       "      <td>15.360730</td>\n",
       "      <td>15.261918</td>\n",
       "      <td>15.166851</td>\n",
       "      <td>14.990741</td>\n",
       "      <td>15.203013</td>\n",
       "      <td>15.055888</td>\n",
       "      <td>15.067738</td>\n",
       "      <td>15.259431</td>\n",
       "    </tr>\n",
       "    <tr>\n",
       "      <th>2013-10-17 00:00:00-04:00</th>\n",
       "      <td>15.725100</td>\n",
       "      <td>15.619435</td>\n",
       "      <td>15.543694</td>\n",
       "      <td>15.461408</td>\n",
       "      <td>15.360730</td>\n",
       "      <td>15.261918</td>\n",
       "      <td>15.166851</td>\n",
       "      <td>14.990741</td>\n",
       "      <td>15.203013</td>\n",
       "      <td>15.055888</td>\n",
       "      <td>15.067738</td>\n",
       "    </tr>\n",
       "    <tr>\n",
       "      <th>2013-10-18 00:00:00-04:00</th>\n",
       "      <td>15.861940</td>\n",
       "      <td>15.725100</td>\n",
       "      <td>15.619435</td>\n",
       "      <td>15.543694</td>\n",
       "      <td>15.461408</td>\n",
       "      <td>15.360730</td>\n",
       "      <td>15.261918</td>\n",
       "      <td>15.166851</td>\n",
       "      <td>14.990741</td>\n",
       "      <td>15.203013</td>\n",
       "      <td>15.055888</td>\n",
       "    </tr>\n",
       "    <tr>\n",
       "      <th>...</th>\n",
       "      <td>...</td>\n",
       "      <td>...</td>\n",
       "      <td>...</td>\n",
       "      <td>...</td>\n",
       "      <td>...</td>\n",
       "      <td>...</td>\n",
       "      <td>...</td>\n",
       "      <td>...</td>\n",
       "      <td>...</td>\n",
       "      <td>...</td>\n",
       "      <td>...</td>\n",
       "    </tr>\n",
       "    <tr>\n",
       "      <th>2023-09-22 00:00:00-04:00</th>\n",
       "      <td>174.789993</td>\n",
       "      <td>173.929993</td>\n",
       "      <td>175.490005</td>\n",
       "      <td>179.070007</td>\n",
       "      <td>177.970001</td>\n",
       "      <td>175.009995</td>\n",
       "      <td>175.740005</td>\n",
       "      <td>174.210007</td>\n",
       "      <td>176.300003</td>\n",
       "      <td>179.360001</td>\n",
       "      <td>178.179993</td>\n",
       "    </tr>\n",
       "    <tr>\n",
       "      <th>2023-09-25 00:00:00-04:00</th>\n",
       "      <td>176.080002</td>\n",
       "      <td>174.789993</td>\n",
       "      <td>173.929993</td>\n",
       "      <td>175.490005</td>\n",
       "      <td>179.070007</td>\n",
       "      <td>177.970001</td>\n",
       "      <td>175.009995</td>\n",
       "      <td>175.740005</td>\n",
       "      <td>174.210007</td>\n",
       "      <td>176.300003</td>\n",
       "      <td>179.360001</td>\n",
       "    </tr>\n",
       "    <tr>\n",
       "      <th>2023-09-26 00:00:00-04:00</th>\n",
       "      <td>171.960007</td>\n",
       "      <td>176.080002</td>\n",
       "      <td>174.789993</td>\n",
       "      <td>173.929993</td>\n",
       "      <td>175.490005</td>\n",
       "      <td>179.070007</td>\n",
       "      <td>177.970001</td>\n",
       "      <td>175.009995</td>\n",
       "      <td>175.740005</td>\n",
       "      <td>174.210007</td>\n",
       "      <td>176.300003</td>\n",
       "    </tr>\n",
       "    <tr>\n",
       "      <th>2023-09-27 00:00:00-04:00</th>\n",
       "      <td>170.429993</td>\n",
       "      <td>171.960007</td>\n",
       "      <td>176.080002</td>\n",
       "      <td>174.789993</td>\n",
       "      <td>173.929993</td>\n",
       "      <td>175.490005</td>\n",
       "      <td>179.070007</td>\n",
       "      <td>177.970001</td>\n",
       "      <td>175.009995</td>\n",
       "      <td>175.740005</td>\n",
       "      <td>174.210007</td>\n",
       "    </tr>\n",
       "    <tr>\n",
       "      <th>2023-09-28 00:00:00-04:00</th>\n",
       "      <td>170.690002</td>\n",
       "      <td>170.429993</td>\n",
       "      <td>171.960007</td>\n",
       "      <td>176.080002</td>\n",
       "      <td>174.789993</td>\n",
       "      <td>173.929993</td>\n",
       "      <td>175.490005</td>\n",
       "      <td>179.070007</td>\n",
       "      <td>177.970001</td>\n",
       "      <td>175.009995</td>\n",
       "      <td>175.740005</td>\n",
       "    </tr>\n",
       "  </tbody>\n",
       "</table>\n",
       "<p>2507 rows × 11 columns</p>\n",
       "</div>"
      ],
      "text/plain": [
       "                                Close  Close(t-1)  Close(t-2)  Close(t-3)  \\\n",
       "Date                                                                        \n",
       "2013-10-14 00:00:00-04:00   15.461408   15.360730   15.261918   15.166851   \n",
       "2013-10-15 00:00:00-04:00   15.543694   15.461408   15.360730   15.261918   \n",
       "2013-10-16 00:00:00-04:00   15.619435   15.543694   15.461408   15.360730   \n",
       "2013-10-17 00:00:00-04:00   15.725100   15.619435   15.543694   15.461408   \n",
       "2013-10-18 00:00:00-04:00   15.861940   15.725100   15.619435   15.543694   \n",
       "...                               ...         ...         ...         ...   \n",
       "2023-09-22 00:00:00-04:00  174.789993  173.929993  175.490005  179.070007   \n",
       "2023-09-25 00:00:00-04:00  176.080002  174.789993  173.929993  175.490005   \n",
       "2023-09-26 00:00:00-04:00  171.960007  176.080002  174.789993  173.929993   \n",
       "2023-09-27 00:00:00-04:00  170.429993  171.960007  176.080002  174.789993   \n",
       "2023-09-28 00:00:00-04:00  170.690002  170.429993  171.960007  176.080002   \n",
       "\n",
       "                           Close(t-4)  Close(t-5)  Close(t-6)  Close(t-7)  \\\n",
       "Date                                                                        \n",
       "2013-10-14 00:00:00-04:00   14.990741   15.203013   15.055888   15.067738   \n",
       "2013-10-15 00:00:00-04:00   15.166851   14.990741   15.203013   15.055888   \n",
       "2013-10-16 00:00:00-04:00   15.261918   15.166851   14.990741   15.203013   \n",
       "2013-10-17 00:00:00-04:00   15.360730   15.261918   15.166851   14.990741   \n",
       "2013-10-18 00:00:00-04:00   15.461408   15.360730   15.261918   15.166851   \n",
       "...                               ...         ...         ...         ...   \n",
       "2023-09-22 00:00:00-04:00  177.970001  175.009995  175.740005  174.210007   \n",
       "2023-09-25 00:00:00-04:00  179.070007  177.970001  175.009995  175.740005   \n",
       "2023-09-26 00:00:00-04:00  175.490005  179.070007  177.970001  175.009995   \n",
       "2023-09-27 00:00:00-04:00  173.929993  175.490005  179.070007  177.970001   \n",
       "2023-09-28 00:00:00-04:00  174.789993  173.929993  175.490005  179.070007   \n",
       "\n",
       "                           Close(t-8)  Close(t-9)  Close(t-10)  \n",
       "Date                                                            \n",
       "2013-10-14 00:00:00-04:00   15.259431   15.209554    14.860147  \n",
       "2013-10-15 00:00:00-04:00   15.067738   15.259431    15.209554  \n",
       "2013-10-16 00:00:00-04:00   15.055888   15.067738    15.259431  \n",
       "2013-10-17 00:00:00-04:00   15.203013   15.055888    15.067738  \n",
       "2013-10-18 00:00:00-04:00   14.990741   15.203013    15.055888  \n",
       "...                               ...         ...          ...  \n",
       "2023-09-22 00:00:00-04:00  176.300003  179.360001   178.179993  \n",
       "2023-09-25 00:00:00-04:00  174.210007  176.300003   179.360001  \n",
       "2023-09-26 00:00:00-04:00  175.740005  174.210007   176.300003  \n",
       "2023-09-27 00:00:00-04:00  175.009995  175.740005   174.210007  \n",
       "2023-09-28 00:00:00-04:00  177.970001  175.009995   175.740005  \n",
       "\n",
       "[2507 rows x 11 columns]"
      ]
     },
     "execution_count": 1404,
     "metadata": {},
     "output_type": "execute_result"
    }
   ],
   "source": [
    "lookback = 10\n",
    "shifted_df = prepare_dataframe(df,lookback)\n",
    "shifted_df"
   ]
  },
  {
   "cell_type": "code",
   "execution_count": 1405,
   "metadata": {},
   "outputs": [
    {
     "data": {
      "text/html": [
       "<div>\n",
       "<style scoped>\n",
       "    .dataframe tbody tr th:only-of-type {\n",
       "        vertical-align: middle;\n",
       "    }\n",
       "\n",
       "    .dataframe tbody tr th {\n",
       "        vertical-align: top;\n",
       "    }\n",
       "\n",
       "    .dataframe thead th {\n",
       "        text-align: right;\n",
       "    }\n",
       "</style>\n",
       "<table border=\"1\" class=\"dataframe\">\n",
       "  <thead>\n",
       "    <tr style=\"text-align: right;\">\n",
       "      <th></th>\n",
       "      <th>Date</th>\n",
       "      <th>Close</th>\n",
       "    </tr>\n",
       "  </thead>\n",
       "  <tbody>\n",
       "    <tr>\n",
       "      <th>2512</th>\n",
       "      <td>2023-09-22 00:00:00-04:00</td>\n",
       "      <td>174.789993</td>\n",
       "    </tr>\n",
       "    <tr>\n",
       "      <th>2513</th>\n",
       "      <td>2023-09-25 00:00:00-04:00</td>\n",
       "      <td>176.080002</td>\n",
       "    </tr>\n",
       "    <tr>\n",
       "      <th>2514</th>\n",
       "      <td>2023-09-26 00:00:00-04:00</td>\n",
       "      <td>171.960007</td>\n",
       "    </tr>\n",
       "    <tr>\n",
       "      <th>2515</th>\n",
       "      <td>2023-09-27 00:00:00-04:00</td>\n",
       "      <td>170.429993</td>\n",
       "    </tr>\n",
       "    <tr>\n",
       "      <th>2516</th>\n",
       "      <td>2023-09-28 00:00:00-04:00</td>\n",
       "      <td>170.690002</td>\n",
       "    </tr>\n",
       "  </tbody>\n",
       "</table>\n",
       "</div>"
      ],
      "text/plain": [
       "                          Date       Close\n",
       "2512 2023-09-22 00:00:00-04:00  174.789993\n",
       "2513 2023-09-25 00:00:00-04:00  176.080002\n",
       "2514 2023-09-26 00:00:00-04:00  171.960007\n",
       "2515 2023-09-27 00:00:00-04:00  170.429993\n",
       "2516 2023-09-28 00:00:00-04:00  170.690002"
      ]
     },
     "execution_count": 1405,
     "metadata": {},
     "output_type": "execute_result"
    }
   ],
   "source": [
    "df.tail()"
   ]
  },
  {
   "cell_type": "code",
   "execution_count": 1406,
   "metadata": {},
   "outputs": [],
   "source": [
    "#Mali4521"
   ]
  },
  {
   "cell_type": "code",
   "execution_count": 1407,
   "metadata": {},
   "outputs": [],
   "source": [
    "from sklearn.model_selection import train_test_split\n",
    "from sklearn.preprocessing import MinMaxScaler\n",
    "\n",
    "import torch\n",
    "import torch.nn as nn\n",
    "from torch.utils.data import Dataset, DataLoader\n",
    "import torch.optim as optim\n"
   ]
  },
  {
   "cell_type": "code",
   "execution_count": 1408,
   "metadata": {},
   "outputs": [],
   "source": [
    "scaler = MinMaxScaler(feature_range=(-1,1))"
   ]
  },
  {
   "cell_type": "code",
   "execution_count": 1409,
   "metadata": {},
   "outputs": [
    {
     "data": {
      "text/plain": [
       "['Close',\n",
       " 'Close(t-1)',\n",
       " 'Close(t-2)',\n",
       " 'Close(t-3)',\n",
       " 'Close(t-4)',\n",
       " 'Close(t-5)',\n",
       " 'Close(t-6)',\n",
       " 'Close(t-7)',\n",
       " 'Close(t-8)',\n",
       " 'Close(t-9)',\n",
       " 'Close(t-10)']"
      ]
     },
     "execution_count": 1409,
     "metadata": {},
     "output_type": "execute_result"
    }
   ],
   "source": [
    "columns = shifted_df.columns.to_list()\n",
    "columns"
   ]
  },
  {
   "cell_type": "code",
   "execution_count": 1410,
   "metadata": {},
   "outputs": [],
   "source": [
    "shifted_df[columns] = scaler.fit_transform(shifted_df)"
   ]
  },
  {
   "cell_type": "code",
   "execution_count": 1411,
   "metadata": {},
   "outputs": [
    {
     "data": {
      "text/html": [
       "<div>\n",
       "<style scoped>\n",
       "    .dataframe tbody tr th:only-of-type {\n",
       "        vertical-align: middle;\n",
       "    }\n",
       "\n",
       "    .dataframe tbody tr th {\n",
       "        vertical-align: top;\n",
       "    }\n",
       "\n",
       "    .dataframe thead th {\n",
       "        text-align: right;\n",
       "    }\n",
       "</style>\n",
       "<table border=\"1\" class=\"dataframe\">\n",
       "  <thead>\n",
       "    <tr style=\"text-align: right;\">\n",
       "      <th></th>\n",
       "      <th>Close</th>\n",
       "      <th>Close(t-1)</th>\n",
       "      <th>Close(t-2)</th>\n",
       "      <th>Close(t-3)</th>\n",
       "      <th>Close(t-4)</th>\n",
       "      <th>Close(t-5)</th>\n",
       "      <th>Close(t-6)</th>\n",
       "      <th>Close(t-7)</th>\n",
       "      <th>Close(t-8)</th>\n",
       "      <th>Close(t-9)</th>\n",
       "      <th>Close(t-10)</th>\n",
       "    </tr>\n",
       "    <tr>\n",
       "      <th>Date</th>\n",
       "      <th></th>\n",
       "      <th></th>\n",
       "      <th></th>\n",
       "      <th></th>\n",
       "      <th></th>\n",
       "      <th></th>\n",
       "      <th></th>\n",
       "      <th></th>\n",
       "      <th></th>\n",
       "      <th></th>\n",
       "      <th></th>\n",
       "    </tr>\n",
       "  </thead>\n",
       "  <tbody>\n",
       "    <tr>\n",
       "      <th>2013-10-14 00:00:00-04:00</th>\n",
       "      <td>-1.000000</td>\n",
       "      <td>-1.000000</td>\n",
       "      <td>-1.000000</td>\n",
       "      <td>-1.000000</td>\n",
       "      <td>-1.000000</td>\n",
       "      <td>-0.997657</td>\n",
       "      <td>-0.999281</td>\n",
       "      <td>-0.999150</td>\n",
       "      <td>-0.997034</td>\n",
       "      <td>-0.997585</td>\n",
       "      <td>-1.000000</td>\n",
       "    </tr>\n",
       "    <tr>\n",
       "      <th>2013-10-15 00:00:00-04:00</th>\n",
       "      <td>-0.999089</td>\n",
       "      <td>-0.998886</td>\n",
       "      <td>-0.998908</td>\n",
       "      <td>-0.998950</td>\n",
       "      <td>-0.998056</td>\n",
       "      <td>-1.000000</td>\n",
       "      <td>-0.997657</td>\n",
       "      <td>-0.999281</td>\n",
       "      <td>-0.999150</td>\n",
       "      <td>-0.997034</td>\n",
       "      <td>-0.996146</td>\n",
       "    </tr>\n",
       "    <tr>\n",
       "      <th>2013-10-16 00:00:00-04:00</th>\n",
       "      <td>-0.998251</td>\n",
       "      <td>-0.997976</td>\n",
       "      <td>-0.997795</td>\n",
       "      <td>-0.997858</td>\n",
       "      <td>-0.997007</td>\n",
       "      <td>-0.998056</td>\n",
       "      <td>-1.000000</td>\n",
       "      <td>-0.997657</td>\n",
       "      <td>-0.999281</td>\n",
       "      <td>-0.999150</td>\n",
       "      <td>-0.995596</td>\n",
       "    </tr>\n",
       "    <tr>\n",
       "      <th>2013-10-17 00:00:00-04:00</th>\n",
       "      <td>-0.997082</td>\n",
       "      <td>-0.997139</td>\n",
       "      <td>-0.996885</td>\n",
       "      <td>-0.996746</td>\n",
       "      <td>-0.995916</td>\n",
       "      <td>-0.997007</td>\n",
       "      <td>-0.998056</td>\n",
       "      <td>-1.000000</td>\n",
       "      <td>-0.997657</td>\n",
       "      <td>-0.999281</td>\n",
       "      <td>-0.997710</td>\n",
       "    </tr>\n",
       "    <tr>\n",
       "      <th>2013-10-18 00:00:00-04:00</th>\n",
       "      <td>-0.995567</td>\n",
       "      <td>-0.995970</td>\n",
       "      <td>-0.996048</td>\n",
       "      <td>-0.995836</td>\n",
       "      <td>-0.994805</td>\n",
       "      <td>-0.995916</td>\n",
       "      <td>-0.997007</td>\n",
       "      <td>-0.998056</td>\n",
       "      <td>-1.000000</td>\n",
       "      <td>-0.997657</td>\n",
       "      <td>-0.997841</td>\n",
       "    </tr>\n",
       "    <tr>\n",
       "      <th>...</th>\n",
       "      <td>...</td>\n",
       "      <td>...</td>\n",
       "      <td>...</td>\n",
       "      <td>...</td>\n",
       "      <td>...</td>\n",
       "      <td>...</td>\n",
       "      <td>...</td>\n",
       "      <td>...</td>\n",
       "      <td>...</td>\n",
       "      <td>...</td>\n",
       "      <td>...</td>\n",
       "    </tr>\n",
       "    <tr>\n",
       "      <th>2023-09-22 00:00:00-04:00</th>\n",
       "      <td>0.763229</td>\n",
       "      <td>0.753849</td>\n",
       "      <td>0.771228</td>\n",
       "      <td>0.810902</td>\n",
       "      <td>0.798944</td>\n",
       "      <td>0.766272</td>\n",
       "      <td>0.774330</td>\n",
       "      <td>0.757442</td>\n",
       "      <td>0.780511</td>\n",
       "      <td>0.814287</td>\n",
       "      <td>0.801405</td>\n",
       "    </tr>\n",
       "    <tr>\n",
       "      <th>2023-09-25 00:00:00-04:00</th>\n",
       "      <td>0.777505</td>\n",
       "      <td>0.763361</td>\n",
       "      <td>0.753983</td>\n",
       "      <td>0.771348</td>\n",
       "      <td>0.811086</td>\n",
       "      <td>0.798944</td>\n",
       "      <td>0.766272</td>\n",
       "      <td>0.774330</td>\n",
       "      <td>0.757442</td>\n",
       "      <td>0.780511</td>\n",
       "      <td>0.814421</td>\n",
       "    </tr>\n",
       "    <tr>\n",
       "      <th>2023-09-26 00:00:00-04:00</th>\n",
       "      <td>0.731910</td>\n",
       "      <td>0.777629</td>\n",
       "      <td>0.763490</td>\n",
       "      <td>0.754112</td>\n",
       "      <td>0.771570</td>\n",
       "      <td>0.811086</td>\n",
       "      <td>0.798944</td>\n",
       "      <td>0.766272</td>\n",
       "      <td>0.774330</td>\n",
       "      <td>0.757442</td>\n",
       "      <td>0.780669</td>\n",
       "    </tr>\n",
       "    <tr>\n",
       "      <th>2023-09-27 00:00:00-04:00</th>\n",
       "      <td>0.714978</td>\n",
       "      <td>0.732060</td>\n",
       "      <td>0.777750</td>\n",
       "      <td>0.763614</td>\n",
       "      <td>0.754351</td>\n",
       "      <td>0.771570</td>\n",
       "      <td>0.811086</td>\n",
       "      <td>0.798944</td>\n",
       "      <td>0.766272</td>\n",
       "      <td>0.774330</td>\n",
       "      <td>0.757617</td>\n",
       "    </tr>\n",
       "    <tr>\n",
       "      <th>2023-09-28 00:00:00-04:00</th>\n",
       "      <td>0.717856</td>\n",
       "      <td>0.715137</td>\n",
       "      <td>0.732206</td>\n",
       "      <td>0.777867</td>\n",
       "      <td>0.763844</td>\n",
       "      <td>0.754351</td>\n",
       "      <td>0.771570</td>\n",
       "      <td>0.811086</td>\n",
       "      <td>0.798944</td>\n",
       "      <td>0.766272</td>\n",
       "      <td>0.774492</td>\n",
       "    </tr>\n",
       "  </tbody>\n",
       "</table>\n",
       "<p>2507 rows × 11 columns</p>\n",
       "</div>"
      ],
      "text/plain": [
       "                              Close  Close(t-1)  Close(t-2)  Close(t-3)  \\\n",
       "Date                                                                      \n",
       "2013-10-14 00:00:00-04:00 -1.000000   -1.000000   -1.000000   -1.000000   \n",
       "2013-10-15 00:00:00-04:00 -0.999089   -0.998886   -0.998908   -0.998950   \n",
       "2013-10-16 00:00:00-04:00 -0.998251   -0.997976   -0.997795   -0.997858   \n",
       "2013-10-17 00:00:00-04:00 -0.997082   -0.997139   -0.996885   -0.996746   \n",
       "2013-10-18 00:00:00-04:00 -0.995567   -0.995970   -0.996048   -0.995836   \n",
       "...                             ...         ...         ...         ...   \n",
       "2023-09-22 00:00:00-04:00  0.763229    0.753849    0.771228    0.810902   \n",
       "2023-09-25 00:00:00-04:00  0.777505    0.763361    0.753983    0.771348   \n",
       "2023-09-26 00:00:00-04:00  0.731910    0.777629    0.763490    0.754112   \n",
       "2023-09-27 00:00:00-04:00  0.714978    0.732060    0.777750    0.763614   \n",
       "2023-09-28 00:00:00-04:00  0.717856    0.715137    0.732206    0.777867   \n",
       "\n",
       "                           Close(t-4)  Close(t-5)  Close(t-6)  Close(t-7)  \\\n",
       "Date                                                                        \n",
       "2013-10-14 00:00:00-04:00   -1.000000   -0.997657   -0.999281   -0.999150   \n",
       "2013-10-15 00:00:00-04:00   -0.998056   -1.000000   -0.997657   -0.999281   \n",
       "2013-10-16 00:00:00-04:00   -0.997007   -0.998056   -1.000000   -0.997657   \n",
       "2013-10-17 00:00:00-04:00   -0.995916   -0.997007   -0.998056   -1.000000   \n",
       "2013-10-18 00:00:00-04:00   -0.994805   -0.995916   -0.997007   -0.998056   \n",
       "...                               ...         ...         ...         ...   \n",
       "2023-09-22 00:00:00-04:00    0.798944    0.766272    0.774330    0.757442   \n",
       "2023-09-25 00:00:00-04:00    0.811086    0.798944    0.766272    0.774330   \n",
       "2023-09-26 00:00:00-04:00    0.771570    0.811086    0.798944    0.766272   \n",
       "2023-09-27 00:00:00-04:00    0.754351    0.771570    0.811086    0.798944   \n",
       "2023-09-28 00:00:00-04:00    0.763844    0.754351    0.771570    0.811086   \n",
       "\n",
       "                           Close(t-8)  Close(t-9)  Close(t-10)  \n",
       "Date                                                            \n",
       "2013-10-14 00:00:00-04:00   -0.997034   -0.997585    -1.000000  \n",
       "2013-10-15 00:00:00-04:00   -0.999150   -0.997034    -0.996146  \n",
       "2013-10-16 00:00:00-04:00   -0.999281   -0.999150    -0.995596  \n",
       "2013-10-17 00:00:00-04:00   -0.997657   -0.999281    -0.997710  \n",
       "2013-10-18 00:00:00-04:00   -1.000000   -0.997657    -0.997841  \n",
       "...                               ...         ...          ...  \n",
       "2023-09-22 00:00:00-04:00    0.780511    0.814287     0.801405  \n",
       "2023-09-25 00:00:00-04:00    0.757442    0.780511     0.814421  \n",
       "2023-09-26 00:00:00-04:00    0.774330    0.757442     0.780669  \n",
       "2023-09-27 00:00:00-04:00    0.766272    0.774330     0.757617  \n",
       "2023-09-28 00:00:00-04:00    0.798944    0.766272     0.774492  \n",
       "\n",
       "[2507 rows x 11 columns]"
      ]
     },
     "execution_count": 1411,
     "metadata": {},
     "output_type": "execute_result"
    }
   ],
   "source": [
    "shifted_df"
   ]
  },
  {
   "cell_type": "code",
   "execution_count": 1412,
   "metadata": {},
   "outputs": [
    {
     "name": "stdout",
     "output_type": "stream",
     "text": [
      "                Close  Close(t-1)  Close(t-2)  Close(t-3)  Close(t-4)  \\\n",
      "Close        1.000000    0.999524    0.999083    0.998671    0.998280   \n",
      "Close(t-1)   0.999524    1.000000    0.999523    0.999083    0.998672   \n",
      "Close(t-2)   0.999083    0.999523    1.000000    0.999523    0.999084   \n",
      "Close(t-3)   0.998671    0.999083    0.999523    1.000000    0.999524   \n",
      "Close(t-4)   0.998280    0.998672    0.999084    0.999524    1.000000   \n",
      "Close(t-5)   0.997895    0.998280    0.998672    0.999084    0.999523   \n",
      "Close(t-6)   0.997472    0.997894    0.998279    0.998671    0.999083   \n",
      "Close(t-7)   0.997072    0.997472    0.997894    0.998278    0.998670   \n",
      "Close(t-8)   0.996640    0.997074    0.997475    0.997896    0.998277   \n",
      "Close(t-9)   0.996264    0.996641    0.997076    0.997476    0.997894   \n",
      "Close(t-10)  0.995830    0.996263    0.996640    0.997074    0.997473   \n",
      "\n",
      "             Close(t-5)  Close(t-6)  Close(t-7)  Close(t-8)  Close(t-9)  \\\n",
      "Close          0.997895    0.997472    0.997072    0.996640    0.996264   \n",
      "Close(t-1)     0.998280    0.997894    0.997472    0.997074    0.996641   \n",
      "Close(t-2)     0.998672    0.998279    0.997894    0.997475    0.997076   \n",
      "Close(t-3)     0.999084    0.998671    0.998278    0.997896    0.997476   \n",
      "Close(t-4)     0.999523    0.999083    0.998670    0.998277    0.997894   \n",
      "Close(t-5)     1.000000    0.999523    0.999082    0.998670    0.998277   \n",
      "Close(t-6)     0.999523    1.000000    0.999523    0.999083    0.998670   \n",
      "Close(t-7)     0.999082    0.999523    1.000000    0.999523    0.999083   \n",
      "Close(t-8)     0.998670    0.999083    0.999523    1.000000    0.999523   \n",
      "Close(t-9)     0.998277    0.998670    0.999083    0.999523    1.000000   \n",
      "Close(t-10)    0.997892    0.998275    0.998669    0.999083    0.999523   \n",
      "\n",
      "             Close(t-10)  \n",
      "Close           0.995830  \n",
      "Close(t-1)      0.996263  \n",
      "Close(t-2)      0.996640  \n",
      "Close(t-3)      0.997074  \n",
      "Close(t-4)      0.997473  \n",
      "Close(t-5)      0.997892  \n",
      "Close(t-6)      0.998275  \n",
      "Close(t-7)      0.998669  \n",
      "Close(t-8)      0.999083  \n",
      "Close(t-9)      0.999523  \n",
      "Close(t-10)     1.000000  \n"
     ]
    }
   ],
   "source": [
    "print(shifted_df.corr())"
   ]
  },
  {
   "cell_type": "code",
   "execution_count": 1413,
   "metadata": {},
   "outputs": [],
   "source": [
    "data, test_data = train_test_split(shifted_df, test_size=0.10)\n",
    "train_data, valid_data = train_test_split(data,test_size=0.10)"
   ]
  },
  {
   "cell_type": "code",
   "execution_count": 1414,
   "metadata": {},
   "outputs": [
    {
     "data": {
      "text/plain": [
       "2256"
      ]
     },
     "execution_count": 1414,
     "metadata": {},
     "output_type": "execute_result"
    }
   ],
   "source": [
    "index = int(len(shifted_df)*0.9)\n",
    "index"
   ]
  },
  {
   "cell_type": "code",
   "execution_count": 1415,
   "metadata": {},
   "outputs": [],
   "source": [
    "train_data = shifted_df[:index]\n",
    "test_data = shifted_df[index:]"
   ]
  },
  {
   "cell_type": "code",
   "execution_count": 1416,
   "metadata": {},
   "outputs": [],
   "source": [
    "class CreateDataset(Dataset):\n",
    "    def __init__(self, dataframe):\n",
    "        self.dataframe = dataframe\n",
    "         \n",
    "    def __getitem__(self, index):\n",
    "        row = self.dataframe.iloc[index]\n",
    "        features = torch.tensor(row.iloc[1:])\n",
    "        label = torch.tensor(row.iloc[0])\n",
    "        return features.reshape(-1,1).float(),label.view(1).float()\n",
    "    \n",
    "    def __len__(self):\n",
    "        return len(self.dataframe)"
   ]
  },
  {
   "cell_type": "code",
   "execution_count": 1417,
   "metadata": {},
   "outputs": [
    {
     "data": {
      "text/html": [
       "<div>\n",
       "<style scoped>\n",
       "    .dataframe tbody tr th:only-of-type {\n",
       "        vertical-align: middle;\n",
       "    }\n",
       "\n",
       "    .dataframe tbody tr th {\n",
       "        vertical-align: top;\n",
       "    }\n",
       "\n",
       "    .dataframe thead th {\n",
       "        text-align: right;\n",
       "    }\n",
       "</style>\n",
       "<table border=\"1\" class=\"dataframe\">\n",
       "  <thead>\n",
       "    <tr style=\"text-align: right;\">\n",
       "      <th></th>\n",
       "      <th>Close</th>\n",
       "      <th>Close(t-1)</th>\n",
       "      <th>Close(t-2)</th>\n",
       "      <th>Close(t-3)</th>\n",
       "      <th>Close(t-4)</th>\n",
       "      <th>Close(t-5)</th>\n",
       "      <th>Close(t-6)</th>\n",
       "      <th>Close(t-7)</th>\n",
       "      <th>Close(t-8)</th>\n",
       "      <th>Close(t-9)</th>\n",
       "      <th>Close(t-10)</th>\n",
       "    </tr>\n",
       "    <tr>\n",
       "      <th>Date</th>\n",
       "      <th></th>\n",
       "      <th></th>\n",
       "      <th></th>\n",
       "      <th></th>\n",
       "      <th></th>\n",
       "      <th></th>\n",
       "      <th></th>\n",
       "      <th></th>\n",
       "      <th></th>\n",
       "      <th></th>\n",
       "      <th></th>\n",
       "    </tr>\n",
       "  </thead>\n",
       "  <tbody>\n",
       "    <tr>\n",
       "      <th>2019-12-30 00:00:00-05:00</th>\n",
       "      <td>-0.384318</td>\n",
       "      <td>-0.388187</td>\n",
       "      <td>-0.387132</td>\n",
       "      <td>-0.401601</td>\n",
       "      <td>-0.400965</td>\n",
       "      <td>-0.41324</td>\n",
       "      <td>-0.411679</td>\n",
       "      <td>-0.412433</td>\n",
       "      <td>-0.410629</td>\n",
       "      <td>-0.41211</td>\n",
       "      <td>-0.423762</td>\n",
       "    </tr>\n",
       "  </tbody>\n",
       "</table>\n",
       "</div>"
      ],
      "text/plain": [
       "                              Close  Close(t-1)  Close(t-2)  Close(t-3)  \\\n",
       "Date                                                                      \n",
       "2019-12-30 00:00:00-05:00 -0.384318   -0.388187   -0.387132   -0.401601   \n",
       "\n",
       "                           Close(t-4)  Close(t-5)  Close(t-6)  Close(t-7)  \\\n",
       "Date                                                                        \n",
       "2019-12-30 00:00:00-05:00   -0.400965    -0.41324   -0.411679   -0.412433   \n",
       "\n",
       "                           Close(t-8)  Close(t-9)  Close(t-10)  \n",
       "Date                                                            \n",
       "2019-12-30 00:00:00-05:00   -0.410629    -0.41211    -0.423762  "
      ]
     },
     "execution_count": 1417,
     "metadata": {},
     "output_type": "execute_result"
    }
   ],
   "source": [
    "valid_data.head(1)"
   ]
  },
  {
   "cell_type": "code",
   "execution_count": 1418,
   "metadata": {},
   "outputs": [],
   "source": [
    "train_dataset = CreateDataset(dataframe=train_data)\n",
    "train_loader = DataLoader(train_dataset, shuffle=True,batch_size = 8)"
   ]
  },
  {
   "cell_type": "code",
   "execution_count": 1419,
   "metadata": {},
   "outputs": [],
   "source": [
    "valid_dataset = CreateDataset(dataframe=valid_data)\n",
    "valid_loader = DataLoader(valid_dataset, shuffle=True,batch_size = 8)"
   ]
  },
  {
   "cell_type": "code",
   "execution_count": 1420,
   "metadata": {},
   "outputs": [],
   "source": [
    "test_dataset = CreateDataset(dataframe=test_data)\n",
    "test_loader = DataLoader(test_dataset, shuffle=True,batch_size = 8)"
   ]
  },
  {
   "cell_type": "code",
   "execution_count": 1421,
   "metadata": {},
   "outputs": [
    {
     "name": "stderr",
     "output_type": "stream",
     "text": [
      "C:\\Users\\Admin\\AppData\\Local\\Temp\\ipykernel_17176\\341124280.py:7: FutureWarning: Series.__getitem__ treating keys as positions is deprecated. In a future version, integer keys will always be treated as labels (consistent with DataFrame behavior). To access a value by position, use `ser.iloc[pos]`\n",
      "  features = torch.tensor(row.iloc[1:])\n"
     ]
    }
   ],
   "source": [
    "example = iter(train_loader)\n",
    "feature, label = next(example)"
   ]
  },
  {
   "cell_type": "code",
   "execution_count": 1422,
   "metadata": {},
   "outputs": [
    {
     "data": {
      "text/plain": [
       "(torch.Size([8, 10, 1]), torch.Size([8, 1]))"
      ]
     },
     "execution_count": 1422,
     "metadata": {},
     "output_type": "execute_result"
    }
   ],
   "source": [
    "feature.size(), label.size()"
   ]
  },
  {
   "cell_type": "code",
   "execution_count": 1423,
   "metadata": {},
   "outputs": [
    {
     "data": {
      "text/plain": [
       "'cpu'"
      ]
     },
     "execution_count": 1423,
     "metadata": {},
     "output_type": "execute_result"
    }
   ],
   "source": [
    "device"
   ]
  },
  {
   "cell_type": "code",
   "execution_count": 1424,
   "metadata": {},
   "outputs": [],
   "source": [
    "import torch\n",
    "import torch.nn as nn\n",
    "import torch.nn.functional as F"
   ]
  },
  {
   "cell_type": "code",
   "execution_count": 1425,
   "metadata": {},
   "outputs": [],
   "source": [
    "class LSTM(nn.Module):\n",
    "    def __init__(self, input_size, hidden_size, num_layers,dropout, bidirectional):\n",
    "        super().__init__()\n",
    "\n",
    "        self.num_layers = num_layers\n",
    "        self.hidden_size = hidden_size\n",
    "        self.bidirectional = bidirectional\n",
    "\n",
    "        self.device = torch.device(\"cuda:0\" if torch.cuda.is_available() else \"cpu\")\n",
    "\n",
    "        self.linear1 = nn.Linear(input_size, hidden_size)\n",
    "        self.relu = nn.ReLU()\n",
    "\n",
    "        self.lstm1 = nn.LSTM(hidden_size, hidden_size, num_layers,batch_first=True, dropout=dropout,bidirectional=bidirectional)\n",
    "        \n",
    "        if bidirectional: #2 more layers\n",
    "            self.lstm2 = nn.LSTM(hidden_size*2, hidden_size, num_layers,batch_first=True, dropout=dropout,bidirectional=bidirectional)\n",
    "            self.layer2 = nn.Linear(hidden_size*2, 128)\n",
    "        else:\n",
    "            self.lstm2 = nn.LSTM(hidden_size*2, hidden_size, num_layers,batch_first=True, dropout=dropout,bidirectional=bidirectional)\n",
    "            self.layer2 = nn.Linear(hidden_size, 128)\n",
    "        \n",
    "\n",
    "\n",
    "\n",
    "    def forward(self, x):\n",
    "       batch_size = x.size(0)\n",
    "       if self.bidirectional:\n",
    "           h0 = torch.zeros(self.num_layers*2, batch_size, self.hidden_size).to(self.device)\n",
    "           c0 = torch.zeros(self.num_layers*2, batch_size, self.hidden_size).to(self.device)\n",
    "\n",
    "           h1 = torch.zeros(self.num_layers*2, batch_size, self.hidden_size).to(self.device)\n",
    "           c1 = torch.zeros(self.num_layers*2, batch_size, self.hidden_size).to(self.device)\n",
    "       else:\n",
    "           h0 = torch.zeros(self.num_layers, batch_size, self.hidden_size).to(self.device)\n",
    "           c0 = torch.zeros(self.num_layers, batch_size, self.hidden_size).to(self.device)\n",
    "\n",
    "           h1 = torch.zeros(self.num_layers, batch_size, self.hidden_size).to(self.device)\n",
    "           c1 = torch.zeros(self.num_layers, batch_size, self.hidden_size).to(self.device)\n",
    "           \n",
    "       x = self.linear1(x)\n",
    "       x = self.relu(x)\n",
    "       \n",
    "       \n",
    "       h0, c0 = self.lstm1(x, (h0, c0))\n",
    "\n",
    "       h1, c1 = self.lstm2(h0, (h1, c1))\n",
    "\n",
    "       out = self.out_layer(h1[:, -1, :])\n",
    "       out = self.relu1()\n",
    "       return out"
   ]
  },
  {
   "cell_type": "code",
   "execution_count": 1426,
   "metadata": {},
   "outputs": [
    {
     "data": {
      "text/plain": [
       "LSTM(\n",
       "  (linear): Linear(in_features=1, out_features=8, bias=True)\n",
       "  (relu): ReLU()\n",
       "  (lstm1): LSTM(8, 8, num_layers=2, batch_first=True, dropout=0.2, bidirectional=True)\n",
       "  (lstm2): LSTM(16, 8, num_layers=2, batch_first=True, dropout=0.2, bidirectional=True)\n",
       "  (fc): Linear(in_features=16, out_features=1, bias=True)\n",
       ")"
      ]
     },
     "execution_count": 1426,
     "metadata": {},
     "output_type": "execute_result"
    }
   ],
   "source": [
    "rnn = LSTM(input_size=1,hidden_size=8,num_layers=2,dropout=0.2,bidirectional=True)\n",
    "rnn.to(device=device)\n",
    "rnn"
   ]
  },
  {
   "cell_type": "code",
   "execution_count": 1427,
   "metadata": {},
   "outputs": [],
   "source": [
    "def train_one_epoch():\n",
    "    rnn.train(True)\n",
    "    print(f'Epoch: {epoch + 1}')\n",
    "    running_loss = 0.0\n",
    "    \n",
    "    for batch_index, batch in enumerate(train_loader):\n",
    "        x_batch, y_batch = batch[0].to(device), batch[1].to(device)\n",
    "       \n",
    "       \n",
    "        output = rnn(x_batch)\n",
    "        \n",
    "        loss = loss_function(output, y_batch)\n",
    "        running_loss += loss.item()\n",
    "        \n",
    "        optimizer.zero_grad()\n",
    "        loss.backward()\n",
    "        optimizer.step()\n",
    "\n",
    "        if batch_index % 100 == 99:  # print every 100 batches\n",
    "            avg_loss_across_batches = running_loss / 100\n",
    "            print('Batch {0}, Loss: {1:.5f}'.format(batch_index+1,\n",
    "                                                    avg_loss_across_batches))\n",
    "            running_loss = 0.0\n",
    "    print()"
   ]
  },
  {
   "cell_type": "code",
   "execution_count": 1428,
   "metadata": {},
   "outputs": [],
   "source": [
    "def validate_one_epoch():\n",
    "    rnn.train(False)\n",
    "    running_loss = 0.0\n",
    "    \n",
    "    for batch_index, batch in enumerate(test_loader):\n",
    "        x_batch, y_batch = batch[0].to(device), batch[1].to(device)\n",
    "        \n",
    "        with torch.no_grad():\n",
    "            output = rnn(x_batch)\n",
    "            loss = loss_function(output, y_batch)\n",
    "            running_loss += loss.item()\n",
    "\n",
    "    avg_loss_across_batches = running_loss / len(test_loader)\n",
    "    \n",
    "    print('Val Loss: {0:.5f}'.format(avg_loss_across_batches))\n",
    "    print('***************************************************')\n",
    "    print()"
   ]
  },
  {
   "cell_type": "code",
   "execution_count": 1429,
   "metadata": {},
   "outputs": [
    {
     "name": "stdout",
     "output_type": "stream",
     "text": [
      "Epoch: 1\n"
     ]
    },
    {
     "name": "stderr",
     "output_type": "stream",
     "text": [
      "C:\\Users\\Admin\\AppData\\Local\\Temp\\ipykernel_17176\\341124280.py:7: FutureWarning: Series.__getitem__ treating keys as positions is deprecated. In a future version, integer keys will always be treated as labels (consistent with DataFrame behavior). To access a value by position, use `ser.iloc[pos]`\n",
      "  features = torch.tensor(row.iloc[1:])\n"
     ]
    },
    {
     "name": "stdout",
     "output_type": "stream",
     "text": [
      "Batch 100, Loss: 0.30834\n",
      "Batch 200, Loss: 0.07477\n",
      "\n",
      "Epoch: 2\n",
      "Batch 100, Loss: 0.00658\n",
      "Batch 200, Loss: 0.00585\n",
      "\n",
      "Epoch: 3\n",
      "Batch 100, Loss: 0.00419\n",
      "Batch 200, Loss: 0.00398\n",
      "\n",
      "Epoch: 4\n",
      "Batch 100, Loss: 0.00345\n",
      "Batch 200, Loss: 0.00297\n",
      "\n",
      "Epoch: 5\n",
      "Batch 100, Loss: 0.00296\n",
      "Batch 200, Loss: 0.00245\n",
      "\n",
      "Epoch: 6\n",
      "Batch 100, Loss: 0.00226\n",
      "Batch 200, Loss: 0.00226\n",
      "\n",
      "Epoch: 7\n",
      "Batch 100, Loss: 0.00228\n",
      "Batch 200, Loss: 0.00209\n",
      "\n",
      "Epoch: 8\n",
      "Batch 100, Loss: 0.00211\n",
      "Batch 200, Loss: 0.00221\n",
      "\n",
      "Epoch: 9\n",
      "Batch 100, Loss: 0.00195\n",
      "Batch 200, Loss: 0.00188\n",
      "\n",
      "Epoch: 10\n",
      "Batch 100, Loss: 0.00164\n",
      "Batch 200, Loss: 0.00197\n",
      "\n"
     ]
    }
   ],
   "source": [
    "learning_rate = 0.001\n",
    "num_epochs = 10\n",
    "loss_function = nn.MSELoss()\n",
    "optimizer = torch.optim.Adam(rnn.parameters(), lr=learning_rate)\n",
    "\n",
    "for epoch in range(num_epochs):\n",
    "    train_one_epoch()\n",
    "    # validate_one_epoch()"
   ]
  },
  {
   "cell_type": "code",
   "execution_count": 1462,
   "metadata": {},
   "outputs": [],
   "source": [
    "# torch.save(rnn.to(torch.device('cpu')).state_dict(), './rnn_AMZN.pth')"
   ]
  },
  {
   "cell_type": "code",
   "execution_count": 1463,
   "metadata": {},
   "outputs": [
    {
     "data": {
      "text/html": [
       "<div>\n",
       "<style scoped>\n",
       "    .dataframe tbody tr th:only-of-type {\n",
       "        vertical-align: middle;\n",
       "    }\n",
       "\n",
       "    .dataframe tbody tr th {\n",
       "        vertical-align: top;\n",
       "    }\n",
       "\n",
       "    .dataframe thead th {\n",
       "        text-align: right;\n",
       "    }\n",
       "</style>\n",
       "<table border=\"1\" class=\"dataframe\">\n",
       "  <thead>\n",
       "    <tr style=\"text-align: right;\">\n",
       "      <th></th>\n",
       "      <th>Close</th>\n",
       "      <th>Close(t-1)</th>\n",
       "      <th>Close(t-2)</th>\n",
       "      <th>Close(t-3)</th>\n",
       "      <th>Close(t-4)</th>\n",
       "      <th>Close(t-5)</th>\n",
       "      <th>Close(t-6)</th>\n",
       "      <th>Close(t-7)</th>\n",
       "      <th>Close(t-8)</th>\n",
       "      <th>Close(t-9)</th>\n",
       "      <th>Close(t-10)</th>\n",
       "    </tr>\n",
       "    <tr>\n",
       "      <th>Date</th>\n",
       "      <th></th>\n",
       "      <th></th>\n",
       "      <th></th>\n",
       "      <th></th>\n",
       "      <th></th>\n",
       "      <th></th>\n",
       "      <th></th>\n",
       "      <th></th>\n",
       "      <th></th>\n",
       "      <th></th>\n",
       "      <th></th>\n",
       "    </tr>\n",
       "  </thead>\n",
       "  <tbody>\n",
       "    <tr>\n",
       "      <th>2023-09-28 00:00:00-04:00</th>\n",
       "      <td>0.717856</td>\n",
       "      <td>0.715137</td>\n",
       "      <td>0.732206</td>\n",
       "      <td>0.777867</td>\n",
       "      <td>0.763844</td>\n",
       "      <td>0.754351</td>\n",
       "      <td>0.77157</td>\n",
       "      <td>0.811086</td>\n",
       "      <td>0.798944</td>\n",
       "      <td>0.766272</td>\n",
       "      <td>0.774492</td>\n",
       "    </tr>\n",
       "  </tbody>\n",
       "</table>\n",
       "</div>"
      ],
      "text/plain": [
       "                              Close  Close(t-1)  Close(t-2)  Close(t-3)  \\\n",
       "Date                                                                      \n",
       "2023-09-28 00:00:00-04:00  0.717856    0.715137    0.732206    0.777867   \n",
       "\n",
       "                           Close(t-4)  Close(t-5)  Close(t-6)  Close(t-7)  \\\n",
       "Date                                                                        \n",
       "2023-09-28 00:00:00-04:00    0.763844    0.754351     0.77157    0.811086   \n",
       "\n",
       "                           Close(t-8)  Close(t-9)  Close(t-10)  \n",
       "Date                                                            \n",
       "2023-09-28 00:00:00-04:00    0.798944    0.766272     0.774492  "
      ]
     },
     "execution_count": 1463,
     "metadata": {},
     "output_type": "execute_result"
    }
   ],
   "source": [
    "shifted_df.tail(1)"
   ]
  },
  {
   "cell_type": "code",
   "execution_count": 1464,
   "metadata": {},
   "outputs": [],
   "source": [
    "x_train = test_data.drop(columns=['Close']).to_numpy()\n",
    "x_train = torch.from_numpy(x_train).reshape((-1,lookback,1)).float()\n",
    "\n",
    "y_train = test_data['Close'].to_numpy()\n",
    "y_train = torch.from_numpy(y_train).reshape((-1,1)).float()\n"
   ]
  },
  {
   "cell_type": "code",
   "execution_count": 1465,
   "metadata": {},
   "outputs": [
    {
     "data": {
      "text/plain": [
       "torch.Size([251, 10, 1])"
      ]
     },
     "execution_count": 1465,
     "metadata": {},
     "output_type": "execute_result"
    }
   ],
   "source": [
    "x_train.size()\n"
   ]
  },
  {
   "cell_type": "code",
   "execution_count": 1466,
   "metadata": {},
   "outputs": [],
   "source": [
    "# x_train = shifted_df.tail(20).drop(columns=['Close']).to_numpy()\n",
    "# x_train = torch.from_numpy(x_train).reshape((-1,lookback,1)).float()\n",
    "\n",
    "# y_train = shifted_df.tail(20)['Close'].to_numpy()\n",
    "# y_train = torch.from_numpy(y_train).reshape((-1,1)).float()"
   ]
  },
  {
   "cell_type": "code",
   "execution_count": 1467,
   "metadata": {},
   "outputs": [],
   "source": [
    "with torch.no_grad():\n",
    "    predicted = rnn(x_train.to(device)).to('cpu').numpy()"
   ]
  },
  {
   "cell_type": "code",
   "execution_count": 1468,
   "metadata": {},
   "outputs": [
    {
     "data": {
      "image/png": "[encoded data removed]",
      "text/plain": [
       "<Figure size 640x480 with 1 Axes>"
      ]
     },
     "metadata": {},
     "output_type": "display_data"
    }
   ],
   "source": [
    "plt.plot(y_train, label='Actual Close')\n",
    "plt.plot(predicted, label='Predicted Close')\n",
    "plt.xlabel('Day')\n",
    "plt.ylabel('Close')\n",
    "plt.legend()\n",
    "plt.show()"
   ]
  },
  {
   "cell_type": "code",
   "execution_count": 1453,
   "metadata": {},
   "outputs": [],
   "source": [
    "import numpy as np"
   ]
  },
  {
   "cell_type": "code",
   "execution_count": 1454,
   "metadata": {},
   "outputs": [],
   "source": [
    "from copy import deepcopy as dc"
   ]
  },
  {
   "cell_type": "code",
   "execution_count": 1455,
   "metadata": {},
   "outputs": [
    {
     "data": {
      "text/plain": [
       "172.08254877417815"
      ]
     },
     "execution_count": 1455,
     "metadata": {},
     "output_type": "execute_result"
    }
   ],
   "source": [
    "train_predictions = predicted.flatten()\n",
    "\n",
    "dummies = np.zeros((x_train.shape[0], lookback+1))\n",
    "dummies[:, 0] = train_predictions\n",
    "dummies = scaler.inverse_transform(dummies)\n",
    "\n",
    "train_predictions = dc(dummies[:, 0])\n",
    "train_predictions[-1]"
   ]
  },
  {
   "cell_type": "code",
   "execution_count": 1456,
   "metadata": {},
   "outputs": [
    {
     "data": {
      "text/plain": [
       "array([187.86999637, 189.46000915, 189.69999787, 182.91000512,\n",
       "       177.55999853, 178.17999003, 179.36000009, 176.30000121,\n",
       "       174.21000745, 175.7400042 , 175.00999318, 177.97000125,\n",
       "       179.07000789, 175.49000293, 173.92999009, 174.78999185,\n",
       "       176.07999988, 171.96000684, 170.42999394, 170.69000236])"
      ]
     },
     "execution_count": 1456,
     "metadata": {},
     "output_type": "execute_result"
    }
   ],
   "source": [
    "dummies = np.zeros((x_train.shape[0], lookback+1))\n",
    "dummies[:, 0] = y_train.flatten()\n",
    "dummies = scaler.inverse_transform(dummies)\n",
    "\n",
    "new_y_train = dc(dummies[:, 0])\n",
    "new_y_train"
   ]
  },
  {
   "cell_type": "code",
   "execution_count": 1457,
   "metadata": {},
   "outputs": [
    {
     "data": {
      "image/png": "[encoded data removed]",
      "text/plain": [
       "<Figure size 640x480 with 1 Axes>"
      ]
     },
     "metadata": {},
     "output_type": "display_data"
    }
   ],
   "source": [
    "plt.plot(new_y_train, label='Actual Close')\n",
    "plt.plot(train_predictions, label='Predicted Close')\n",
    "plt.xlabel('Day')\n",
    "plt.ylabel('Close')\n",
    "plt.legend()\n",
    "plt.show()\n"
   ]
  },
  {
   "cell_type": "code",
   "execution_count": 1458,
   "metadata": {},
   "outputs": [],
   "source": [
    "from sklearn.metrics import r2_score\n",
    "from sklearn.metrics import mean_squared_error"
   ]
  },
  {
   "cell_type": "code",
   "execution_count": 1459,
   "metadata": {},
   "outputs": [
    {
     "data": {
      "text/plain": [
       "-1.899680906696898"
      ]
     },
     "execution_count": 1459,
     "metadata": {},
     "output_type": "execute_result"
    }
   ],
   "source": [
    "r2 = r2_score(new_y_train, train_predictions)\n",
    "r2"
   ]
  },
  {
   "cell_type": "code",
   "execution_count": 1460,
   "metadata": {},
   "outputs": [
    {
     "data": {
      "text/plain": [
       "9.387348057389765"
      ]
     },
     "execution_count": 1460,
     "metadata": {},
     "output_type": "execute_result"
    }
   ],
   "source": [
    "rmse = np.sqrt(mean_squared_error(new_y_train, train_predictions))\n",
    "rmse"
   ]
  },
  {
   "cell_type": "code",
   "execution_count": 1461,
   "metadata": {},
   "outputs": [
    {
     "data": {
      "text/plain": [
       "-5.121548580804562"
      ]
     },
     "execution_count": 1461,
     "metadata": {},
     "output_type": "execute_result"
    }
   ],
   "source": [
    "adj_r2 = 1 - (1-r2)*((train_predictions.size-1)/(train_predictions.size-10-1))\n",
    "adj_r2"
   ]
  },
  {
   "cell_type": "code",
   "execution_count": 1449,
   "metadata": {},
   "outputs": [
    {
     "data": {
      "text/html": [
       "<div>\n",
       "<style scoped>\n",
       "    .dataframe tbody tr th:only-of-type {\n",
       "        vertical-align: middle;\n",
       "    }\n",
       "\n",
       "    .dataframe tbody tr th {\n",
       "        vertical-align: top;\n",
       "    }\n",
       "\n",
       "    .dataframe thead th {\n",
       "        text-align: right;\n",
       "    }\n",
       "</style>\n",
       "<table border=\"1\" class=\"dataframe\">\n",
       "  <thead>\n",
       "    <tr style=\"text-align: right;\">\n",
       "      <th></th>\n",
       "      <th>Close</th>\n",
       "      <th>Close(t-1)</th>\n",
       "      <th>Close(t-2)</th>\n",
       "      <th>Close(t-3)</th>\n",
       "      <th>Close(t-4)</th>\n",
       "      <th>Close(t-5)</th>\n",
       "      <th>Close(t-6)</th>\n",
       "      <th>Close(t-7)</th>\n",
       "      <th>Close(t-8)</th>\n",
       "      <th>Close(t-9)</th>\n",
       "      <th>Close(t-10)</th>\n",
       "    </tr>\n",
       "    <tr>\n",
       "      <th>Date</th>\n",
       "      <th></th>\n",
       "      <th></th>\n",
       "      <th></th>\n",
       "      <th></th>\n",
       "      <th></th>\n",
       "      <th></th>\n",
       "      <th></th>\n",
       "      <th></th>\n",
       "      <th></th>\n",
       "      <th></th>\n",
       "      <th></th>\n",
       "    </tr>\n",
       "  </thead>\n",
       "  <tbody>\n",
       "    <tr>\n",
       "      <th>2013-10-14 00:00:00-04:00</th>\n",
       "      <td>-1.000000</td>\n",
       "      <td>-1.000000</td>\n",
       "      <td>-1.000000</td>\n",
       "      <td>-1.000000</td>\n",
       "      <td>-1.000000</td>\n",
       "      <td>-0.997657</td>\n",
       "      <td>-0.999281</td>\n",
       "      <td>-0.999150</td>\n",
       "      <td>-0.997034</td>\n",
       "      <td>-0.997585</td>\n",
       "      <td>-1.000000</td>\n",
       "    </tr>\n",
       "    <tr>\n",
       "      <th>2013-10-15 00:00:00-04:00</th>\n",
       "      <td>-0.999089</td>\n",
       "      <td>-0.998886</td>\n",
       "      <td>-0.998908</td>\n",
       "      <td>-0.998950</td>\n",
       "      <td>-0.998056</td>\n",
       "      <td>-1.000000</td>\n",
       "      <td>-0.997657</td>\n",
       "      <td>-0.999281</td>\n",
       "      <td>-0.999150</td>\n",
       "      <td>-0.997034</td>\n",
       "      <td>-0.996146</td>\n",
       "    </tr>\n",
       "    <tr>\n",
       "      <th>2013-10-16 00:00:00-04:00</th>\n",
       "      <td>-0.998251</td>\n",
       "      <td>-0.997976</td>\n",
       "      <td>-0.997795</td>\n",
       "      <td>-0.997858</td>\n",
       "      <td>-0.997007</td>\n",
       "      <td>-0.998056</td>\n",
       "      <td>-1.000000</td>\n",
       "      <td>-0.997657</td>\n",
       "      <td>-0.999281</td>\n",
       "      <td>-0.999150</td>\n",
       "      <td>-0.995596</td>\n",
       "    </tr>\n",
       "    <tr>\n",
       "      <th>2013-10-17 00:00:00-04:00</th>\n",
       "      <td>-0.997082</td>\n",
       "      <td>-0.997139</td>\n",
       "      <td>-0.996885</td>\n",
       "      <td>-0.996746</td>\n",
       "      <td>-0.995916</td>\n",
       "      <td>-0.997007</td>\n",
       "      <td>-0.998056</td>\n",
       "      <td>-1.000000</td>\n",
       "      <td>-0.997657</td>\n",
       "      <td>-0.999281</td>\n",
       "      <td>-0.997710</td>\n",
       "    </tr>\n",
       "    <tr>\n",
       "      <th>2013-10-18 00:00:00-04:00</th>\n",
       "      <td>-0.995567</td>\n",
       "      <td>-0.995970</td>\n",
       "      <td>-0.996048</td>\n",
       "      <td>-0.995836</td>\n",
       "      <td>-0.994805</td>\n",
       "      <td>-0.995916</td>\n",
       "      <td>-0.997007</td>\n",
       "      <td>-0.998056</td>\n",
       "      <td>-1.000000</td>\n",
       "      <td>-0.997657</td>\n",
       "      <td>-0.997841</td>\n",
       "    </tr>\n",
       "    <tr>\n",
       "      <th>...</th>\n",
       "      <td>...</td>\n",
       "      <td>...</td>\n",
       "      <td>...</td>\n",
       "      <td>...</td>\n",
       "      <td>...</td>\n",
       "      <td>...</td>\n",
       "      <td>...</td>\n",
       "      <td>...</td>\n",
       "      <td>...</td>\n",
       "      <td>...</td>\n",
       "      <td>...</td>\n",
       "    </tr>\n",
       "    <tr>\n",
       "      <th>2023-09-22 00:00:00-04:00</th>\n",
       "      <td>0.763229</td>\n",
       "      <td>0.753849</td>\n",
       "      <td>0.771228</td>\n",
       "      <td>0.810902</td>\n",
       "      <td>0.798944</td>\n",
       "      <td>0.766272</td>\n",
       "      <td>0.774330</td>\n",
       "      <td>0.757442</td>\n",
       "      <td>0.780511</td>\n",
       "      <td>0.814287</td>\n",
       "      <td>0.801405</td>\n",
       "    </tr>\n",
       "    <tr>\n",
       "      <th>2023-09-25 00:00:00-04:00</th>\n",
       "      <td>0.777505</td>\n",
       "      <td>0.763361</td>\n",
       "      <td>0.753983</td>\n",
       "      <td>0.771348</td>\n",
       "      <td>0.811086</td>\n",
       "      <td>0.798944</td>\n",
       "      <td>0.766272</td>\n",
       "      <td>0.774330</td>\n",
       "      <td>0.757442</td>\n",
       "      <td>0.780511</td>\n",
       "      <td>0.814421</td>\n",
       "    </tr>\n",
       "    <tr>\n",
       "      <th>2023-09-26 00:00:00-04:00</th>\n",
       "      <td>0.731910</td>\n",
       "      <td>0.777629</td>\n",
       "      <td>0.763490</td>\n",
       "      <td>0.754112</td>\n",
       "      <td>0.771570</td>\n",
       "      <td>0.811086</td>\n",
       "      <td>0.798944</td>\n",
       "      <td>0.766272</td>\n",
       "      <td>0.774330</td>\n",
       "      <td>0.757442</td>\n",
       "      <td>0.780669</td>\n",
       "    </tr>\n",
       "    <tr>\n",
       "      <th>2023-09-27 00:00:00-04:00</th>\n",
       "      <td>0.714978</td>\n",
       "      <td>0.732060</td>\n",
       "      <td>0.777750</td>\n",
       "      <td>0.763614</td>\n",
       "      <td>0.754351</td>\n",
       "      <td>0.771570</td>\n",
       "      <td>0.811086</td>\n",
       "      <td>0.798944</td>\n",
       "      <td>0.766272</td>\n",
       "      <td>0.774330</td>\n",
       "      <td>0.757617</td>\n",
       "    </tr>\n",
       "    <tr>\n",
       "      <th>2023-09-28 00:00:00-04:00</th>\n",
       "      <td>0.717856</td>\n",
       "      <td>0.715137</td>\n",
       "      <td>0.732206</td>\n",
       "      <td>0.777867</td>\n",
       "      <td>0.763844</td>\n",
       "      <td>0.754351</td>\n",
       "      <td>0.771570</td>\n",
       "      <td>0.811086</td>\n",
       "      <td>0.798944</td>\n",
       "      <td>0.766272</td>\n",
       "      <td>0.774492</td>\n",
       "    </tr>\n",
       "  </tbody>\n",
       "</table>\n",
       "<p>2507 rows × 11 columns</p>\n",
       "</div>"
      ],
      "text/plain": [
       "                              Close  Close(t-1)  Close(t-2)  Close(t-3)  \\\n",
       "Date                                                                      \n",
       "2013-10-14 00:00:00-04:00 -1.000000   -1.000000   -1.000000   -1.000000   \n",
       "2013-10-15 00:00:00-04:00 -0.999089   -0.998886   -0.998908   -0.998950   \n",
       "2013-10-16 00:00:00-04:00 -0.998251   -0.997976   -0.997795   -0.997858   \n",
       "2013-10-17 00:00:00-04:00 -0.997082   -0.997139   -0.996885   -0.996746   \n",
       "2013-10-18 00:00:00-04:00 -0.995567   -0.995970   -0.996048   -0.995836   \n",
       "...                             ...         ...         ...         ...   \n",
       "2023-09-22 00:00:00-04:00  0.763229    0.753849    0.771228    0.810902   \n",
       "2023-09-25 00:00:00-04:00  0.777505    0.763361    0.753983    0.771348   \n",
       "2023-09-26 00:00:00-04:00  0.731910    0.777629    0.763490    0.754112   \n",
       "2023-09-27 00:00:00-04:00  0.714978    0.732060    0.777750    0.763614   \n",
       "2023-09-28 00:00:00-04:00  0.717856    0.715137    0.732206    0.777867   \n",
       "\n",
       "                           Close(t-4)  Close(t-5)  Close(t-6)  Close(t-7)  \\\n",
       "Date                                                                        \n",
       "2013-10-14 00:00:00-04:00   -1.000000   -0.997657   -0.999281   -0.999150   \n",
       "2013-10-15 00:00:00-04:00   -0.998056   -1.000000   -0.997657   -0.999281   \n",
       "2013-10-16 00:00:00-04:00   -0.997007   -0.998056   -1.000000   -0.997657   \n",
       "2013-10-17 00:00:00-04:00   -0.995916   -0.997007   -0.998056   -1.000000   \n",
       "2013-10-18 00:00:00-04:00   -0.994805   -0.995916   -0.997007   -0.998056   \n",
       "...                               ...         ...         ...         ...   \n",
       "2023-09-22 00:00:00-04:00    0.798944    0.766272    0.774330    0.757442   \n",
       "2023-09-25 00:00:00-04:00    0.811086    0.798944    0.766272    0.774330   \n",
       "2023-09-26 00:00:00-04:00    0.771570    0.811086    0.798944    0.766272   \n",
       "2023-09-27 00:00:00-04:00    0.754351    0.771570    0.811086    0.798944   \n",
       "2023-09-28 00:00:00-04:00    0.763844    0.754351    0.771570    0.811086   \n",
       "\n",
       "                           Close(t-8)  Close(t-9)  Close(t-10)  \n",
       "Date                                                            \n",
       "2013-10-14 00:00:00-04:00   -0.997034   -0.997585    -1.000000  \n",
       "2013-10-15 00:00:00-04:00   -0.999150   -0.997034    -0.996146  \n",
       "2013-10-16 00:00:00-04:00   -0.999281   -0.999150    -0.995596  \n",
       "2013-10-17 00:00:00-04:00   -0.997657   -0.999281    -0.997710  \n",
       "2013-10-18 00:00:00-04:00   -1.000000   -0.997657    -0.997841  \n",
       "...                               ...         ...          ...  \n",
       "2023-09-22 00:00:00-04:00    0.780511    0.814287     0.801405  \n",
       "2023-09-25 00:00:00-04:00    0.757442    0.780511     0.814421  \n",
       "2023-09-26 00:00:00-04:00    0.774330    0.757442     0.780669  \n",
       "2023-09-27 00:00:00-04:00    0.766272    0.774330     0.757617  \n",
       "2023-09-28 00:00:00-04:00    0.798944    0.766272     0.774492  \n",
       "\n",
       "[2507 rows x 11 columns]"
      ]
     },
     "execution_count": 1449,
     "metadata": {},
     "output_type": "execute_result"
    }
   ],
   "source": [
    "shifted_df"
   ]
  },
  {
   "cell_type": "code",
   "execution_count": 745,
   "metadata": {},
   "outputs": [],
   "source": [
    "train_dataset = CreateDataset(dataframe=shifted_df.tail(500))\n",
    "train_loader = DataLoader(train_dataset, shuffle=False,batch_size = 2)"
   ]
  },
  {
   "cell_type": "code",
   "execution_count": 746,
   "metadata": {},
   "outputs": [
    {
     "name": "stdout",
     "output_type": "stream",
     "text": [
      "Epoch: 10\n"
     ]
    },
    {
     "name": "stderr",
     "output_type": "stream",
     "text": [
      "C:\\Users\\Admin\\AppData\\Local\\Temp\\ipykernel_19124\\341124280.py:7: FutureWarning: Series.__getitem__ treating keys as positions is deprecated. In a future version, integer keys will always be treated as labels (consistent with DataFrame behavior). To access a value by position, use `ser.iloc[pos]`\n",
      "  features = torch.tensor(row.iloc[1:])\n"
     ]
    },
    {
     "name": "stdout",
     "output_type": "stream",
     "text": [
      "Batch 100, Loss: 0.03140\n",
      "Batch 200, Loss: 0.03188\n"
     ]
    }
   ],
   "source": [
    "print(f'Epoch: {epoch + 1}')\n",
    "running_loss = 0.0\n",
    "    \n",
    "for batch_index, batch in enumerate(train_loader):\n",
    "        x_batch, y_batch = batch[0].to(device), batch[1].to(device)\n",
    "       \n",
    "       \n",
    "        output = rnn(x_batch)\n",
    "        \n",
    "        loss = torch.sqrt(loss_function(output, y_batch))\n",
    "        running_loss += loss.item()\n",
    "        \n",
    "        optimizer.zero_grad()\n",
    "        loss.backward()\n",
    "        optimizer.step()\n",
    "\n",
    "        if batch_index % 100 == 99:  # print every 100 batches\n",
    "            avg_loss_across_batches = running_loss / 100\n",
    "            print('Batch {0}, Loss: {1:.5f}'.format(batch_index+1,\n",
    "                                                    avg_loss_across_batches))\n",
    "            running_loss = 0.0"
   ]
  },
  {
   "cell_type": "code",
   "execution_count": 1024,
   "metadata": {},
   "outputs": [],
   "source": [
    "import datetime"
   ]
  },
  {
   "cell_type": "code",
   "execution_count": 1037,
   "metadata": {},
   "outputs": [
    {
     "name": "stdout",
     "output_type": "stream",
     "text": [
      "18-09-2023\n",
      "19-09-2023\n",
      "20-09-2023\n",
      "21-09-2023\n",
      "22-09-2023\n",
      "23-09-2023\n",
      "24-09-2023\n",
      "25-09-2023\n",
      "26-09-2023\n",
      "27-09-2023\n",
      "28-09-2023\n"
     ]
    }
   ],
   "source": [
    "for i in range(11):\n",
    "    print((datetime.datetime.now() - datetime.timedelta(days=10-i)).strftime('%d-%m-%Y'))\n"
   ]
  },
  {
   "cell_type": "code",
   "execution_count": 1066,
   "metadata": {},
   "outputs": [
    {
     "data": {
      "text/plain": [
       "['15-09-2023',\n",
       " '16-09-2023',\n",
       " '17-09-2023',\n",
       " '18-09-2023',\n",
       " '19-09-2023',\n",
       " '20-09-2023',\n",
       " '21-09-2023',\n",
       " '22-09-2023',\n",
       " '23-09-2023',\n",
       " '24-09-2023',\n",
       " '25-09-2023']"
      ]
     },
     "execution_count": 1066,
     "metadata": {},
     "output_type": "execute_result"
    }
   ],
   "source": [
    "today = datetime.datetime.now()\n",
    "businessDays = pd.date_range(end=today, periods=14, freq='D')\n",
    "df = pd.DataFrame({'Date' : businessDays[:11]})\n",
    "df.Date.dt.strftime('%d-%m-%Y').to_list()"
   ]
  },
  {
   "cell_type": "code",
   "execution_count": 1070,
   "metadata": {},
   "outputs": [
    {
     "data": {
      "text/html": [
       "<div>\n",
       "<style scoped>\n",
       "    .dataframe tbody tr th:only-of-type {\n",
       "        vertical-align: middle;\n",
       "    }\n",
       "\n",
       "    .dataframe tbody tr th {\n",
       "        vertical-align: top;\n",
       "    }\n",
       "\n",
       "    .dataframe thead th {\n",
       "        text-align: right;\n",
       "    }\n",
       "</style>\n",
       "<table border=\"1\" class=\"dataframe\">\n",
       "  <thead>\n",
       "    <tr style=\"text-align: right;\">\n",
       "      <th></th>\n",
       "      <th>Date</th>\n",
       "    </tr>\n",
       "  </thead>\n",
       "  <tbody>\n",
       "    <tr>\n",
       "      <th>9</th>\n",
       "      <td>2023-09-24 11:33:48.530765</td>\n",
       "    </tr>\n",
       "  </tbody>\n",
       "</table>\n",
       "</div>"
      ],
      "text/plain": [
       "                        Date\n",
       "9 2023-09-24 11:33:48.530765"
      ]
     },
     "execution_count": 1070,
     "metadata": {},
     "output_type": "execute_result"
    }
   ],
   "source": [
    "df[-2:-1]"
   ]
  },
  {
   "cell_type": "code",
   "execution_count": 419,
   "metadata": {},
   "outputs": [
    {
     "data": {
      "text/plain": [
       "tensor([[0.1130, 0.5595],\n",
       "        [0.0722, 0.8199],\n",
       "        [0.6894, 0.1708]])"
      ]
     },
     "execution_count": 419,
     "metadata": {},
     "output_type": "execute_result"
    }
   ],
   "source": [
    "x = torch.rand(3,2,dtype=torch.float)\n",
    "x"
   ]
  },
  {
   "cell_type": "code",
   "execution_count": null,
   "metadata": {},
   "outputs": [],
   "source": []
  }
 ],
 "metadata": {
  "kernelspec": {
   "display_name": "venv",
   "language": "python",
   "name": "python3"
  },
  "language_info": {
   "codemirror_mode": {
    "name": "ipython",
    "version": 3
   },
   "file_extension": ".py",
   "mimetype": "text/x-python",
   "name": "python",
   "nbconvert_exporter": "python",
   "pygments_lexer": "ipython3",
   "version": "3.11.4"
  },
  "orig_nbformat": 4
 },
 "nbformat": 4,
 "nbformat_minor": 2
}
